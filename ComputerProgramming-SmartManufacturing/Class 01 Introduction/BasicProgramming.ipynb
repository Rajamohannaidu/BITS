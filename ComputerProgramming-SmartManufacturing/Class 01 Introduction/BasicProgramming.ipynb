{
  "nbformat": 4,
  "nbformat_minor": 0,
  "metadata": {
    "colab": {
      "provenance": []
    },
    "kernelspec": {
      "name": "python3",
      "display_name": "Python 3"
    },
    "language_info": {
      "name": "python"
    }
  },
  "cells": [
    {
      "cell_type": "code",
      "execution_count": null,
      "metadata": {
        "id": "xANFTUKVbjxA"
      },
      "outputs": [],
      "source": [
        "# * LANGUAGE - PYTHON\n",
        "# * GOOGLE COLAB -\n",
        "# * I will share this notebook\n",
        "# * To create new cell - Press Esc + B (After Esc)\n",
        "\n",
        "# To comment -- Select and Then press (ctrl+/) together.\n",
        "\n",
        "## We are using Notebook (most easisest way to see output), To run it, press , \"(Ctrl+Enter)\"\n",
        "\n",
        "## Usually, we write in python scripts (.py file) --> that we can run just by doing python <name of your pyrhon file>,\n",
        "## must have python installed.."
      ]
    },
    {
      "cell_type": "code",
      "source": [
        "print(\"Hello Guys !!, Welcome to the computer Programming\")"
      ],
      "metadata": {
        "colab": {
          "base_uri": "https://localhost:8080/"
        },
        "id": "vynTAzuAig89",
        "outputId": "50b67b9e-6557-4aed-c17b-c4125ab2dd15"
      },
      "execution_count": 6,
      "outputs": [
        {
          "output_type": "stream",
          "name": "stdout",
          "text": [
            "Hello Guys !!, Welcome to the computer Programming\n"
          ]
        }
      ]
    },
    {
      "cell_type": "code",
      "source": [
        "temperature_value = 40\n",
        "\n",
        "print(f\"Temperature value is {temperature_value}\")"
      ],
      "metadata": {
        "colab": {
          "base_uri": "https://localhost:8080/"
        },
        "id": "Wxf_c5K9ib2a",
        "outputId": "6003517a-b842-48cf-c791-bed09c9b7718"
      },
      "execution_count": 3,
      "outputs": [
        {
          "output_type": "stream",
          "name": "stdout",
          "text": [
            "Temperature value is 40\n"
          ]
        }
      ]
    },
    {
      "cell_type": "code",
      "source": [
        "motor_temp = 85.5\n",
        "is_running = True #Boolean (True or False)\n",
        "machine_name = \"Lathe-01\"  ## strings always enclosed in \"\"\n",
        "\n",
        "print(f\"Machine: {machine_name}, Temperature: {motor_temp}\")"
      ],
      "metadata": {
        "colab": {
          "base_uri": "https://localhost:8080/"
        },
        "id": "rgMlDw-HjMTg",
        "outputId": "3bbd3b12-7458-41c2-a00a-13b8e82b2484"
      },
      "execution_count": 4,
      "outputs": [
        {
          "output_type": "stream",
          "name": "stdout",
          "text": [
            "Machine: Lathe-01, Temperature: 85.5\n"
          ]
        }
      ]
    },
    {
      "cell_type": "code",
      "source": [
        "motor_temp = 95\n",
        "if motor_temp>90:  ## its checking if value in motor_temp variable is greater than 90 or not. If yes, program will go inside it.\n",
        "  print(\"Warning : Overheating !\") ## We are using indentation (i.e. Usage of Tab or 4 spaces)\n",
        "else:\n",
        "  print(\"Temperature Normal :)\")"
      ],
      "metadata": {
        "colab": {
          "base_uri": "https://localhost:8080/"
        },
        "id": "2PA0tBTejgG3",
        "outputId": "68306900-1bf8-49cc-93c8-e7e0a2658f30"
      },
      "execution_count": 9,
      "outputs": [
        {
          "output_type": "stream",
          "name": "stdout",
          "text": [
            "Warning : Overheating !\n"
          ]
        }
      ]
    },
    {
      "cell_type": "code",
      "source": [
        "### LOOPS"
      ],
      "metadata": {
        "id": "PgdZNGEZlIqu"
      },
      "execution_count": null,
      "outputs": []
    },
    {
      "cell_type": "code",
      "source": [
        "list(range(10))  ## everything starts from number - 0 and 10 is exclusive"
      ],
      "metadata": {
        "colab": {
          "base_uri": "https://localhost:8080/"
        },
        "id": "1HHMB8pMlQ3f",
        "outputId": "c338fdd1-5261-42ca-edb9-8a82c9a92306"
      },
      "execution_count": 12,
      "outputs": [
        {
          "output_type": "execute_result",
          "data": {
            "text/plain": [
              "[0, 1, 2, 3, 4, 5, 6, 7, 8, 9]"
            ]
          },
          "metadata": {},
          "execution_count": 12
        }
      ]
    },
    {
      "cell_type": "code",
      "source": [
        "list(range(3,10))  ## want to start from number 3 instead of 0. So, using 3,"
      ],
      "metadata": {
        "colab": {
          "base_uri": "https://localhost:8080/"
        },
        "id": "qJLCsgyUlYqC",
        "outputId": "398b0973-1abb-4624-eb7e-46c8e8c826d2"
      },
      "execution_count": 13,
      "outputs": [
        {
          "output_type": "execute_result",
          "data": {
            "text/plain": [
              "[3, 4, 5, 6, 7, 8, 9]"
            ]
          },
          "metadata": {},
          "execution_count": 13
        }
      ]
    },
    {
      "cell_type": "code",
      "source": [
        "list(range(3,10,2))"
      ],
      "metadata": {
        "colab": {
          "base_uri": "https://localhost:8080/"
        },
        "id": "3g05c3UTlrz-",
        "outputId": "677361e5-ee12-4789-bca3-df0364aac19a"
      },
      "execution_count": 14,
      "outputs": [
        {
          "output_type": "execute_result",
          "data": {
            "text/plain": [
              "[3, 5, 7, 9]"
            ]
          },
          "metadata": {},
          "execution_count": 14
        }
      ]
    },
    {
      "cell_type": "code",
      "source": [
        "for i in range(5):\n",
        "  print(f\"Cycle: {i+1}\")"
      ],
      "metadata": {
        "colab": {
          "base_uri": "https://localhost:8080/"
        },
        "id": "7_hxfg3-l74b",
        "outputId": "522b8cf4-b8ce-4929-a918-2cc0479e3846"
      },
      "execution_count": 15,
      "outputs": [
        {
          "output_type": "stream",
          "name": "stdout",
          "text": [
            "Cycle: 1\n",
            "Cycle: 2\n",
            "Cycle: 3\n",
            "Cycle: 4\n",
            "Cycle: 5\n"
          ]
        }
      ]
    },
    {
      "cell_type": "code",
      "source": [
        "for i in range(1,11):\n",
        "  print(f\"Cycle {i} completed\")"
      ],
      "metadata": {
        "colab": {
          "base_uri": "https://localhost:8080/"
        },
        "id": "zWYS10hlmveI",
        "outputId": "6be267c2-69d1-4e3c-bbd9-6350c1d97fb7"
      },
      "execution_count": 18,
      "outputs": [
        {
          "output_type": "stream",
          "name": "stdout",
          "text": [
            "Cycle 1 completed\n",
            "Cycle 2 completed\n",
            "Cycle 3 completed\n",
            "Cycle 4 completed\n",
            "Cycle 5 completed\n",
            "Cycle 6 completed\n",
            "Cycle 7 completed\n",
            "Cycle 8 completed\n",
            "Cycle 9 completed\n",
            "Cycle 10 completed\n"
          ]
        }
      ]
    },
    {
      "cell_type": "code",
      "source": [
        "sensor_temp = 80\n",
        "while sensor_temp<90:\n",
        "  print(f\"Temperature is OK: {sensor_temp}\")\n",
        "  sensor_temp = sensor_temp + 2"
      ],
      "metadata": {
        "colab": {
          "base_uri": "https://localhost:8080/"
        },
        "id": "WsRTan1DmFRO",
        "outputId": "2647a2d0-0147-4082-b173-fbc3a59f5d4f"
      },
      "execution_count": 16,
      "outputs": [
        {
          "output_type": "stream",
          "name": "stdout",
          "text": [
            "Temperature is OK: 80\n",
            "Temperature is OK: 82\n",
            "Temperature is OK: 84\n",
            "Temperature is OK: 86\n",
            "Temperature is OK: 88\n"
          ]
        }
      ]
    },
    {
      "cell_type": "code",
      "source": [
        "print(f\"Current value of sensor_temp: {sensor_temp}\")"
      ],
      "metadata": {
        "colab": {
          "base_uri": "https://localhost:8080/"
        },
        "id": "hVDVLNhRmgwi",
        "outputId": "46abf5d3-50e2-49ca-d100-62956c2315c9"
      },
      "execution_count": 17,
      "outputs": [
        {
          "output_type": "stream",
          "name": "stdout",
          "text": [
            "Current value of sensor_temp: 90\n"
          ]
        }
      ]
    },
    {
      "cell_type": "code",
      "source": [
        "sensor_readings  = [82, 85, 88, 92, 89, 94]\n",
        "\n",
        "for temp in sensor_readings:\n",
        "  if temp>90:\n",
        "    print(f\"ALERT ! High Temperature : {temp}\")\n",
        "  else:\n",
        "    print(f\"Temperature OK: {temp}\")"
      ],
      "metadata": {
        "colab": {
          "base_uri": "https://localhost:8080/"
        },
        "id": "abegtQjXm4gG",
        "outputId": "1c3f529c-8ec9-423d-b5e3-0ad4c151eefe"
      },
      "execution_count": 19,
      "outputs": [
        {
          "output_type": "stream",
          "name": "stdout",
          "text": [
            "Temperature OK: 82\n",
            "Temperature OK: 85\n",
            "Temperature OK: 88\n",
            "ALERT ! High Temperature : 92\n",
            "Temperature OK: 89\n",
            "ALERT ! High Temperature : 94\n"
          ]
        }
      ]
    },
    {
      "cell_type": "code",
      "source": [
        "### Logging Temperature"
      ],
      "metadata": {
        "id": "8W8gWUYZnXmQ"
      },
      "execution_count": 20,
      "outputs": []
    },
    {
      "cell_type": "code",
      "source": [
        "import time\n",
        "# time.sleep(2)\n",
        "# time.strftime"
      ],
      "metadata": {
        "colab": {
          "base_uri": "https://localhost:8080/"
        },
        "id": "qv6DkMhhn8ci",
        "outputId": "8d95b438-ebcf-497e-d3a1-e6ca76b2d7ed"
      },
      "execution_count": 25,
      "outputs": [
        {
          "output_type": "execute_result",
          "data": {
            "text/plain": [
              "<function time.strftime>"
            ]
          },
          "metadata": {},
          "execution_count": 25
        }
      ]
    },
    {
      "cell_type": "code",
      "source": [
        "import time\n",
        "\n",
        "for i in range(5):\n",
        "  temp = 75 + i*3 ## simulation\n",
        "  timestamp = time.strftime(\"%H:%M:%S\")\n",
        "  print(f\"{timestamp} | Temperature: {temp}\")\n",
        "  time.sleep(2)"
      ],
      "metadata": {
        "colab": {
          "base_uri": "https://localhost:8080/"
        },
        "id": "rGNmsqtPndgq",
        "outputId": "a18b8ebe-e287-4a09-fb7a-4ea78f0cfaa6"
      },
      "execution_count": 27,
      "outputs": [
        {
          "output_type": "stream",
          "name": "stdout",
          "text": [
            "09:29:05 | Temperature: 75\n",
            "09:29:07 | Temperature: 78\n",
            "09:29:09 | Temperature: 81\n",
            "09:29:11 | Temperature: 84\n",
            "09:29:13 | Temperature: 87\n"
          ]
        }
      ]
    },
    {
      "cell_type": "code",
      "source": [
        "### LOOPING THROUGH MACHINES ON FACTORY FLOOR"
      ],
      "metadata": {
        "id": "sikOppGIoa9N"
      },
      "execution_count": null,
      "outputs": []
    },
    {
      "cell_type": "code",
      "source": [
        "machine_detail = {\"name\":\"Milling-03\",\"Status\":\"Error\",\"temperature\":80}"
      ],
      "metadata": {
        "id": "_fgm-Wd6pWMi"
      },
      "execution_count": 30,
      "outputs": []
    },
    {
      "cell_type": "code",
      "source": [
        "type(machine_detail)"
      ],
      "metadata": {
        "colab": {
          "base_uri": "https://localhost:8080/"
        },
        "id": "sx1S8atWpe5s",
        "outputId": "6671395f-48ea-4f8c-89ba-f542206e6c4e"
      },
      "execution_count": 31,
      "outputs": [
        {
          "output_type": "execute_result",
          "data": {
            "text/plain": [
              "dict"
            ]
          },
          "metadata": {},
          "execution_count": 31
        }
      ]
    },
    {
      "cell_type": "code",
      "source": [
        "machine_detail[\"xhdgygduy\"]"
      ],
      "metadata": {
        "colab": {
          "base_uri": "https://localhost:8080/",
          "height": 141
        },
        "id": "cGxtekB3phoR",
        "outputId": "741a5dce-e382-4982-9254-a49ebe76c1e5"
      },
      "execution_count": 36,
      "outputs": [
        {
          "output_type": "error",
          "ename": "KeyError",
          "evalue": "'xhdgygduy'",
          "traceback": [
            "\u001b[0;31m---------------------------------------------------------------------------\u001b[0m",
            "\u001b[0;31mKeyError\u001b[0m                                  Traceback (most recent call last)",
            "\u001b[0;32m<ipython-input-36-01551a8537ad>\u001b[0m in \u001b[0;36m<cell line: 0>\u001b[0;34m()\u001b[0m\n\u001b[0;32m----> 1\u001b[0;31m \u001b[0mmachine_detail\u001b[0m\u001b[0;34m[\u001b[0m\u001b[0;34m\"xhdgygduy\"\u001b[0m\u001b[0;34m]\u001b[0m\u001b[0;34m\u001b[0m\u001b[0;34m\u001b[0m\u001b[0m\n\u001b[0m",
            "\u001b[0;31mKeyError\u001b[0m: 'xhdgygduy'"
          ]
        }
      ]
    },
    {
      "cell_type": "code",
      "source": [
        "machine_detail.get(\"temperatures\",\"No key found\")"
      ],
      "metadata": {
        "colab": {
          "base_uri": "https://localhost:8080/",
          "height": 35
        },
        "id": "Z8qX6c_xqAFG",
        "outputId": "199bcf07-b486-4908-f608-26a9d0421157"
      },
      "execution_count": 38,
      "outputs": [
        {
          "output_type": "execute_result",
          "data": {
            "text/plain": [
              "'No key found'"
            ],
            "application/vnd.google.colaboratory.intrinsic+json": {
              "type": "string"
            }
          },
          "metadata": {},
          "execution_count": 38
        }
      ]
    },
    {
      "cell_type": "code",
      "source": [
        "machine_detail.get(\"temperature\",\"No key found\")"
      ],
      "metadata": {
        "colab": {
          "base_uri": "https://localhost:8080/"
        },
        "id": "8CeCGt40p3V9",
        "outputId": "ee38f74f-b684-4430-d34d-d01096165d1f"
      },
      "execution_count": 37,
      "outputs": [
        {
          "output_type": "execute_result",
          "data": {
            "text/plain": [
              "80"
            ]
          },
          "metadata": {},
          "execution_count": 37
        }
      ]
    },
    {
      "cell_type": "code",
      "source": [
        "machines = [\n",
        "    {\"name\":\"Drill-01\",\"Status\":\"Running\"}, ## dictionary (Key value pairs)\n",
        "    {\"name\":\"Lathe-02\",\"Status\":\"Idle\"},\n",
        "    {\"name\":\"Milling-03\",\"Status\":\"Error\"}\n",
        "]\n",
        "\n",
        "for machine in machines:\n",
        "  print(f\"{machine['name']} is currently {machine['Status']}\")"
      ],
      "metadata": {
        "colab": {
          "base_uri": "https://localhost:8080/"
        },
        "id": "JoVjNpy8ohMy",
        "outputId": "794b5d5b-f653-420c-94a7-7514b850cee7"
      },
      "execution_count": 29,
      "outputs": [
        {
          "output_type": "stream",
          "name": "stdout",
          "text": [
            "Drill-01 is currently Running\n",
            "Lathe-02 is currently Idle\n",
            "Milling-03 is currently Error\n"
          ]
        }
      ]
    },
    {
      "cell_type": "code",
      "source": [
        "## some libraries alternative for VBA - Pandas, Openpyxl\n",
        "## Thisapproach avoid macros ,,, easy to get IT approval\n",
        "\n",
        "# * Its code, not embedded macros\n"
      ],
      "metadata": {
        "id": "K07PimnCrsYQ"
      },
      "execution_count": null,
      "outputs": []
    },
    {
      "cell_type": "code",
      "source": [
        "import pandas as pd\n",
        "from datetime import datetime\n",
        "import uuid\n",
        "\n",
        "batch_data = []\n",
        "\n",
        "for i in range(5):\n",
        "  temp_data_dict = {\n",
        "      \"BATCH ID\":str(uuid.uuid4()),\n",
        "      \"Machine Name\": f\"Machine - {i+1}\",\n",
        "      \"Start Time\": datetime.now().strftime(\"%Y-%m-%d %H:%M:%S\")\n",
        "  }\n",
        "  batch_data.append(temp_data_dict)"
      ],
      "metadata": {
        "id": "4dngh6_BsA0h"
      },
      "execution_count": 41,
      "outputs": []
    },
    {
      "cell_type": "code",
      "source": [
        "batch_data"
      ],
      "metadata": {
        "colab": {
          "base_uri": "https://localhost:8080/"
        },
        "id": "hC5YicXsspCt",
        "outputId": "86604d2c-5c41-4de4-baf7-2ef3e2e9455e"
      },
      "execution_count": 42,
      "outputs": [
        {
          "output_type": "execute_result",
          "data": {
            "text/plain": [
              "[{'BATCH ID': '898087c0-e84b-4087-93bc-4f5cb75989b1',\n",
              "  'Machine Name': 'Machine - 1',\n",
              "  'Start Time': '2025-05-04 09:49:33'},\n",
              " {'BATCH ID': 'adac129a-d0de-4082-9394-7aace8f1b712',\n",
              "  'Machine Name': 'Machine - 2',\n",
              "  'Start Time': '2025-05-04 09:49:33'},\n",
              " {'BATCH ID': '9a38ace7-35cd-4dda-85aa-e9bea209dfc0',\n",
              "  'Machine Name': 'Machine - 3',\n",
              "  'Start Time': '2025-05-04 09:49:33'},\n",
              " {'BATCH ID': '032cb838-d4dd-4208-8bf4-02217812172a',\n",
              "  'Machine Name': 'Machine - 4',\n",
              "  'Start Time': '2025-05-04 09:49:33'},\n",
              " {'BATCH ID': '98489cb4-c35c-434b-8293-1a7bac967449',\n",
              "  'Machine Name': 'Machine - 5',\n",
              "  'Start Time': '2025-05-04 09:49:33'}]"
            ]
          },
          "metadata": {},
          "execution_count": 42
        }
      ]
    },
    {
      "cell_type": "code",
      "source": [
        "df = pd.DataFrame(batch_data)\n",
        "display(df)"
      ],
      "metadata": {
        "colab": {
          "base_uri": "https://localhost:8080/",
          "height": 206
        },
        "id": "s5KDatzKs6oo",
        "outputId": "33a043ff-18ef-414f-9243-954535f3d330"
      },
      "execution_count": 43,
      "outputs": [
        {
          "output_type": "display_data",
          "data": {
            "text/plain": [
              "                               BATCH ID Machine Name           Start Time\n",
              "0  898087c0-e84b-4087-93bc-4f5cb75989b1  Machine - 1  2025-05-04 09:49:33\n",
              "1  adac129a-d0de-4082-9394-7aace8f1b712  Machine - 2  2025-05-04 09:49:33\n",
              "2  9a38ace7-35cd-4dda-85aa-e9bea209dfc0  Machine - 3  2025-05-04 09:49:33\n",
              "3  032cb838-d4dd-4208-8bf4-02217812172a  Machine - 4  2025-05-04 09:49:33\n",
              "4  98489cb4-c35c-434b-8293-1a7bac967449  Machine - 5  2025-05-04 09:49:33"
            ],
            "text/html": [
              "\n",
              "  <div id=\"df-a7f89004-df38-45ac-88e6-b415aada6eb7\" class=\"colab-df-container\">\n",
              "    <div>\n",
              "<style scoped>\n",
              "    .dataframe tbody tr th:only-of-type {\n",
              "        vertical-align: middle;\n",
              "    }\n",
              "\n",
              "    .dataframe tbody tr th {\n",
              "        vertical-align: top;\n",
              "    }\n",
              "\n",
              "    .dataframe thead th {\n",
              "        text-align: right;\n",
              "    }\n",
              "</style>\n",
              "<table border=\"1\" class=\"dataframe\">\n",
              "  <thead>\n",
              "    <tr style=\"text-align: right;\">\n",
              "      <th></th>\n",
              "      <th>BATCH ID</th>\n",
              "      <th>Machine Name</th>\n",
              "      <th>Start Time</th>\n",
              "    </tr>\n",
              "  </thead>\n",
              "  <tbody>\n",
              "    <tr>\n",
              "      <th>0</th>\n",
              "      <td>898087c0-e84b-4087-93bc-4f5cb75989b1</td>\n",
              "      <td>Machine - 1</td>\n",
              "      <td>2025-05-04 09:49:33</td>\n",
              "    </tr>\n",
              "    <tr>\n",
              "      <th>1</th>\n",
              "      <td>adac129a-d0de-4082-9394-7aace8f1b712</td>\n",
              "      <td>Machine - 2</td>\n",
              "      <td>2025-05-04 09:49:33</td>\n",
              "    </tr>\n",
              "    <tr>\n",
              "      <th>2</th>\n",
              "      <td>9a38ace7-35cd-4dda-85aa-e9bea209dfc0</td>\n",
              "      <td>Machine - 3</td>\n",
              "      <td>2025-05-04 09:49:33</td>\n",
              "    </tr>\n",
              "    <tr>\n",
              "      <th>3</th>\n",
              "      <td>032cb838-d4dd-4208-8bf4-02217812172a</td>\n",
              "      <td>Machine - 4</td>\n",
              "      <td>2025-05-04 09:49:33</td>\n",
              "    </tr>\n",
              "    <tr>\n",
              "      <th>4</th>\n",
              "      <td>98489cb4-c35c-434b-8293-1a7bac967449</td>\n",
              "      <td>Machine - 5</td>\n",
              "      <td>2025-05-04 09:49:33</td>\n",
              "    </tr>\n",
              "  </tbody>\n",
              "</table>\n",
              "</div>\n",
              "    <div class=\"colab-df-buttons\">\n",
              "\n",
              "  <div class=\"colab-df-container\">\n",
              "    <button class=\"colab-df-convert\" onclick=\"convertToInteractive('df-a7f89004-df38-45ac-88e6-b415aada6eb7')\"\n",
              "            title=\"Convert this dataframe to an interactive table.\"\n",
              "            style=\"display:none;\">\n",
              "\n",
              "  <svg xmlns=\"http://www.w3.org/2000/svg\" height=\"24px\" viewBox=\"0 -960 960 960\">\n",
              "    <path d=\"M120-120v-720h720v720H120Zm60-500h600v-160H180v160Zm220 220h160v-160H400v160Zm0 220h160v-160H400v160ZM180-400h160v-160H180v160Zm440 0h160v-160H620v160ZM180-180h160v-160H180v160Zm440 0h160v-160H620v160Z\"/>\n",
              "  </svg>\n",
              "    </button>\n",
              "\n",
              "  <style>\n",
              "    .colab-df-container {\n",
              "      display:flex;\n",
              "      gap: 12px;\n",
              "    }\n",
              "\n",
              "    .colab-df-convert {\n",
              "      background-color: #E8F0FE;\n",
              "      border: none;\n",
              "      border-radius: 50%;\n",
              "      cursor: pointer;\n",
              "      display: none;\n",
              "      fill: #1967D2;\n",
              "      height: 32px;\n",
              "      padding: 0 0 0 0;\n",
              "      width: 32px;\n",
              "    }\n",
              "\n",
              "    .colab-df-convert:hover {\n",
              "      background-color: #E2EBFA;\n",
              "      box-shadow: 0px 1px 2px rgba(60, 64, 67, 0.3), 0px 1px 3px 1px rgba(60, 64, 67, 0.15);\n",
              "      fill: #174EA6;\n",
              "    }\n",
              "\n",
              "    .colab-df-buttons div {\n",
              "      margin-bottom: 4px;\n",
              "    }\n",
              "\n",
              "    [theme=dark] .colab-df-convert {\n",
              "      background-color: #3B4455;\n",
              "      fill: #D2E3FC;\n",
              "    }\n",
              "\n",
              "    [theme=dark] .colab-df-convert:hover {\n",
              "      background-color: #434B5C;\n",
              "      box-shadow: 0px 1px 3px 1px rgba(0, 0, 0, 0.15);\n",
              "      filter: drop-shadow(0px 1px 2px rgba(0, 0, 0, 0.3));\n",
              "      fill: #FFFFFF;\n",
              "    }\n",
              "  </style>\n",
              "\n",
              "    <script>\n",
              "      const buttonEl =\n",
              "        document.querySelector('#df-a7f89004-df38-45ac-88e6-b415aada6eb7 button.colab-df-convert');\n",
              "      buttonEl.style.display =\n",
              "        google.colab.kernel.accessAllowed ? 'block' : 'none';\n",
              "\n",
              "      async function convertToInteractive(key) {\n",
              "        const element = document.querySelector('#df-a7f89004-df38-45ac-88e6-b415aada6eb7');\n",
              "        const dataTable =\n",
              "          await google.colab.kernel.invokeFunction('convertToInteractive',\n",
              "                                                    [key], {});\n",
              "        if (!dataTable) return;\n",
              "\n",
              "        const docLinkHtml = 'Like what you see? Visit the ' +\n",
              "          '<a target=\"_blank\" href=https://colab.research.google.com/notebooks/data_table.ipynb>data table notebook</a>'\n",
              "          + ' to learn more about interactive tables.';\n",
              "        element.innerHTML = '';\n",
              "        dataTable['output_type'] = 'display_data';\n",
              "        await google.colab.output.renderOutput(dataTable, element);\n",
              "        const docLink = document.createElement('div');\n",
              "        docLink.innerHTML = docLinkHtml;\n",
              "        element.appendChild(docLink);\n",
              "      }\n",
              "    </script>\n",
              "  </div>\n",
              "\n",
              "\n",
              "    <div id=\"df-3024dec3-ee1e-4b98-b256-363bc1c4377d\">\n",
              "      <button class=\"colab-df-quickchart\" onclick=\"quickchart('df-3024dec3-ee1e-4b98-b256-363bc1c4377d')\"\n",
              "                title=\"Suggest charts\"\n",
              "                style=\"display:none;\">\n",
              "\n",
              "<svg xmlns=\"http://www.w3.org/2000/svg\" height=\"24px\"viewBox=\"0 0 24 24\"\n",
              "     width=\"24px\">\n",
              "    <g>\n",
              "        <path d=\"M19 3H5c-1.1 0-2 .9-2 2v14c0 1.1.9 2 2 2h14c1.1 0 2-.9 2-2V5c0-1.1-.9-2-2-2zM9 17H7v-7h2v7zm4 0h-2V7h2v10zm4 0h-2v-4h2v4z\"/>\n",
              "    </g>\n",
              "</svg>\n",
              "      </button>\n",
              "\n",
              "<style>\n",
              "  .colab-df-quickchart {\n",
              "      --bg-color: #E8F0FE;\n",
              "      --fill-color: #1967D2;\n",
              "      --hover-bg-color: #E2EBFA;\n",
              "      --hover-fill-color: #174EA6;\n",
              "      --disabled-fill-color: #AAA;\n",
              "      --disabled-bg-color: #DDD;\n",
              "  }\n",
              "\n",
              "  [theme=dark] .colab-df-quickchart {\n",
              "      --bg-color: #3B4455;\n",
              "      --fill-color: #D2E3FC;\n",
              "      --hover-bg-color: #434B5C;\n",
              "      --hover-fill-color: #FFFFFF;\n",
              "      --disabled-bg-color: #3B4455;\n",
              "      --disabled-fill-color: #666;\n",
              "  }\n",
              "\n",
              "  .colab-df-quickchart {\n",
              "    background-color: var(--bg-color);\n",
              "    border: none;\n",
              "    border-radius: 50%;\n",
              "    cursor: pointer;\n",
              "    display: none;\n",
              "    fill: var(--fill-color);\n",
              "    height: 32px;\n",
              "    padding: 0;\n",
              "    width: 32px;\n",
              "  }\n",
              "\n",
              "  .colab-df-quickchart:hover {\n",
              "    background-color: var(--hover-bg-color);\n",
              "    box-shadow: 0 1px 2px rgba(60, 64, 67, 0.3), 0 1px 3px 1px rgba(60, 64, 67, 0.15);\n",
              "    fill: var(--button-hover-fill-color);\n",
              "  }\n",
              "\n",
              "  .colab-df-quickchart-complete:disabled,\n",
              "  .colab-df-quickchart-complete:disabled:hover {\n",
              "    background-color: var(--disabled-bg-color);\n",
              "    fill: var(--disabled-fill-color);\n",
              "    box-shadow: none;\n",
              "  }\n",
              "\n",
              "  .colab-df-spinner {\n",
              "    border: 2px solid var(--fill-color);\n",
              "    border-color: transparent;\n",
              "    border-bottom-color: var(--fill-color);\n",
              "    animation:\n",
              "      spin 1s steps(1) infinite;\n",
              "  }\n",
              "\n",
              "  @keyframes spin {\n",
              "    0% {\n",
              "      border-color: transparent;\n",
              "      border-bottom-color: var(--fill-color);\n",
              "      border-left-color: var(--fill-color);\n",
              "    }\n",
              "    20% {\n",
              "      border-color: transparent;\n",
              "      border-left-color: var(--fill-color);\n",
              "      border-top-color: var(--fill-color);\n",
              "    }\n",
              "    30% {\n",
              "      border-color: transparent;\n",
              "      border-left-color: var(--fill-color);\n",
              "      border-top-color: var(--fill-color);\n",
              "      border-right-color: var(--fill-color);\n",
              "    }\n",
              "    40% {\n",
              "      border-color: transparent;\n",
              "      border-right-color: var(--fill-color);\n",
              "      border-top-color: var(--fill-color);\n",
              "    }\n",
              "    60% {\n",
              "      border-color: transparent;\n",
              "      border-right-color: var(--fill-color);\n",
              "    }\n",
              "    80% {\n",
              "      border-color: transparent;\n",
              "      border-right-color: var(--fill-color);\n",
              "      border-bottom-color: var(--fill-color);\n",
              "    }\n",
              "    90% {\n",
              "      border-color: transparent;\n",
              "      border-bottom-color: var(--fill-color);\n",
              "    }\n",
              "  }\n",
              "</style>\n",
              "\n",
              "      <script>\n",
              "        async function quickchart(key) {\n",
              "          const quickchartButtonEl =\n",
              "            document.querySelector('#' + key + ' button');\n",
              "          quickchartButtonEl.disabled = true;  // To prevent multiple clicks.\n",
              "          quickchartButtonEl.classList.add('colab-df-spinner');\n",
              "          try {\n",
              "            const charts = await google.colab.kernel.invokeFunction(\n",
              "                'suggestCharts', [key], {});\n",
              "          } catch (error) {\n",
              "            console.error('Error during call to suggestCharts:', error);\n",
              "          }\n",
              "          quickchartButtonEl.classList.remove('colab-df-spinner');\n",
              "          quickchartButtonEl.classList.add('colab-df-quickchart-complete');\n",
              "        }\n",
              "        (() => {\n",
              "          let quickchartButtonEl =\n",
              "            document.querySelector('#df-3024dec3-ee1e-4b98-b256-363bc1c4377d button');\n",
              "          quickchartButtonEl.style.display =\n",
              "            google.colab.kernel.accessAllowed ? 'block' : 'none';\n",
              "        })();\n",
              "      </script>\n",
              "    </div>\n",
              "\n",
              "  <div id=\"id_e37b9332-26de-4e6a-82a2-6e39757d8176\">\n",
              "    <style>\n",
              "      .colab-df-generate {\n",
              "        background-color: #E8F0FE;\n",
              "        border: none;\n",
              "        border-radius: 50%;\n",
              "        cursor: pointer;\n",
              "        display: none;\n",
              "        fill: #1967D2;\n",
              "        height: 32px;\n",
              "        padding: 0 0 0 0;\n",
              "        width: 32px;\n",
              "      }\n",
              "\n",
              "      .colab-df-generate:hover {\n",
              "        background-color: #E2EBFA;\n",
              "        box-shadow: 0px 1px 2px rgba(60, 64, 67, 0.3), 0px 1px 3px 1px rgba(60, 64, 67, 0.15);\n",
              "        fill: #174EA6;\n",
              "      }\n",
              "\n",
              "      [theme=dark] .colab-df-generate {\n",
              "        background-color: #3B4455;\n",
              "        fill: #D2E3FC;\n",
              "      }\n",
              "\n",
              "      [theme=dark] .colab-df-generate:hover {\n",
              "        background-color: #434B5C;\n",
              "        box-shadow: 0px 1px 3px 1px rgba(0, 0, 0, 0.15);\n",
              "        filter: drop-shadow(0px 1px 2px rgba(0, 0, 0, 0.3));\n",
              "        fill: #FFFFFF;\n",
              "      }\n",
              "    </style>\n",
              "    <button class=\"colab-df-generate\" onclick=\"generateWithVariable('df')\"\n",
              "            title=\"Generate code using this dataframe.\"\n",
              "            style=\"display:none;\">\n",
              "\n",
              "  <svg xmlns=\"http://www.w3.org/2000/svg\" height=\"24px\"viewBox=\"0 0 24 24\"\n",
              "       width=\"24px\">\n",
              "    <path d=\"M7,19H8.4L18.45,9,17,7.55,7,17.6ZM5,21V16.75L18.45,3.32a2,2,0,0,1,2.83,0l1.4,1.43a1.91,1.91,0,0,1,.58,1.4,1.91,1.91,0,0,1-.58,1.4L9.25,21ZM18.45,9,17,7.55Zm-12,3A5.31,5.31,0,0,0,4.9,8.1,5.31,5.31,0,0,0,1,6.5,5.31,5.31,0,0,0,4.9,4.9,5.31,5.31,0,0,0,6.5,1,5.31,5.31,0,0,0,8.1,4.9,5.31,5.31,0,0,0,12,6.5,5.46,5.46,0,0,0,6.5,12Z\"/>\n",
              "  </svg>\n",
              "    </button>\n",
              "    <script>\n",
              "      (() => {\n",
              "      const buttonEl =\n",
              "        document.querySelector('#id_e37b9332-26de-4e6a-82a2-6e39757d8176 button.colab-df-generate');\n",
              "      buttonEl.style.display =\n",
              "        google.colab.kernel.accessAllowed ? 'block' : 'none';\n",
              "\n",
              "      buttonEl.onclick = () => {\n",
              "        google.colab.notebook.generateWithVariable('df');\n",
              "      }\n",
              "      })();\n",
              "    </script>\n",
              "  </div>\n",
              "\n",
              "    </div>\n",
              "  </div>\n"
            ],
            "application/vnd.google.colaboratory.intrinsic+json": {
              "type": "dataframe",
              "variable_name": "df",
              "summary": "{\n  \"name\": \"df\",\n  \"rows\": 5,\n  \"fields\": [\n    {\n      \"column\": \"BATCH ID\",\n      \"properties\": {\n        \"dtype\": \"string\",\n        \"num_unique_values\": 5,\n        \"samples\": [\n          \"adac129a-d0de-4082-9394-7aace8f1b712\",\n          \"98489cb4-c35c-434b-8293-1a7bac967449\",\n          \"9a38ace7-35cd-4dda-85aa-e9bea209dfc0\"\n        ],\n        \"semantic_type\": \"\",\n        \"description\": \"\"\n      }\n    },\n    {\n      \"column\": \"Machine Name\",\n      \"properties\": {\n        \"dtype\": \"string\",\n        \"num_unique_values\": 5,\n        \"samples\": [\n          \"Machine - 2\",\n          \"Machine - 5\",\n          \"Machine - 3\"\n        ],\n        \"semantic_type\": \"\",\n        \"description\": \"\"\n      }\n    },\n    {\n      \"column\": \"Start Time\",\n      \"properties\": {\n        \"dtype\": \"object\",\n        \"num_unique_values\": 1,\n        \"samples\": [\n          \"2025-05-04 09:49:33\"\n        ],\n        \"semantic_type\": \"\",\n        \"description\": \"\"\n      }\n    }\n  ]\n}"
            }
          },
          "metadata": {}
        }
      ]
    },
    {
      "cell_type": "code",
      "source": [
        "df.to_csv(\"BatchData.csv\")"
      ],
      "metadata": {
        "id": "QATsIYJvtTQD"
      },
      "execution_count": 45,
      "outputs": []
    },
    {
      "cell_type": "code",
      "source": [
        "df.to_excel(\"BatchData.xlsx\")"
      ],
      "metadata": {
        "id": "nBhtJDl-tGym"
      },
      "execution_count": 44,
      "outputs": []
    }
  ]
}