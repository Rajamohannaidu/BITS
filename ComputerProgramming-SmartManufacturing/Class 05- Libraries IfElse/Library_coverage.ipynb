{
  "nbformat": 4,
  "nbformat_minor": 0,
  "metadata": {
    "colab": {
      "provenance": []
    },
    "kernelspec": {
      "name": "python3",
      "display_name": "Python 3"
    },
    "language_info": {
      "name": "python"
    }
  },
  "cells": [
    {
      "cell_type": "code",
      "source": [
        "'''\n",
        "Content\n",
        "  1. Random\n",
        "  2. Time\n",
        "  3. Datetime\n",
        "  4. Function\n",
        "  5. If-Else-Elif\n",
        "  6. save dataframe into excel\n",
        "'''"
      ],
      "metadata": {
        "id": "slpo0cfBuA3_"
      },
      "execution_count": null,
      "outputs": []
    },
    {
      "cell_type": "code",
      "execution_count": 2,
      "metadata": {
        "colab": {
          "base_uri": "https://localhost:8080/",
          "height": 35
        },
        "id": "B4QdGqOMkIj5",
        "outputId": "d7ad5adb-0b75-4d1c-e27c-857f4e31914b"
      },
      "outputs": [
        {
          "output_type": "execute_result",
          "data": {
            "text/plain": [
              "'3.11.12 (main, Apr  9 2025, 08:55:54) [GCC 11.4.0]'"
            ],
            "application/vnd.google.colaboratory.intrinsic+json": {
              "type": "string"
            }
          },
          "metadata": {},
          "execution_count": 2
        }
      ],
      "source": [
        "import sys\n",
        "sys.version"
      ]
    },
    {
      "cell_type": "code",
      "source": [
        "## Random number generation\n",
        "'''\n",
        "  1. Simulation based tasks - sensor data\n",
        "  2. create randominzed values\n",
        "'''"
      ],
      "metadata": {
        "id": "vR8E5gwpko3b"
      },
      "execution_count": null,
      "outputs": []
    },
    {
      "cell_type": "code",
      "source": [
        "import random"
      ],
      "metadata": {
        "id": "QAG_VKtEkv7f"
      },
      "execution_count": 4,
      "outputs": []
    },
    {
      "cell_type": "code",
      "source": [
        "## return float between 0 and 1\n",
        "random.random()"
      ],
      "metadata": {
        "colab": {
          "base_uri": "https://localhost:8080/"
        },
        "id": "yheugzKRk4ZC",
        "outputId": "b4bb2143-188d-470e-e4b6-edc1c9c614e9"
      },
      "execution_count": 5,
      "outputs": [
        {
          "output_type": "execute_result",
          "data": {
            "text/plain": [
              "0.6491008540621785"
            ]
          },
          "metadata": {},
          "execution_count": 5
        }
      ]
    },
    {
      "cell_type": "code",
      "source": [
        "## return float between a and b\n",
        "\n",
        "random.uniform(2,30)"
      ],
      "metadata": {
        "colab": {
          "base_uri": "https://localhost:8080/"
        },
        "id": "bDq4rls8lfjY",
        "outputId": "989d82c2-bf29-456a-8dc5-262fb6275432"
      },
      "execution_count": 6,
      "outputs": [
        {
          "output_type": "execute_result",
          "data": {
            "text/plain": [
              "23.406608167931928"
            ]
          },
          "metadata": {},
          "execution_count": 6
        }
      ]
    },
    {
      "cell_type": "code",
      "source": [
        "## return an integer between a and b\n",
        "\n",
        "random.randint(2,30)"
      ],
      "metadata": {
        "colab": {
          "base_uri": "https://localhost:8080/"
        },
        "id": "pp5XYy1olpH0",
        "outputId": "c68b1e31-66f2-45c0-9d14-b663f51bca09"
      },
      "execution_count": 7,
      "outputs": [
        {
          "output_type": "execute_result",
          "data": {
            "text/plain": [
              "27"
            ]
          },
          "metadata": {},
          "execution_count": 7
        }
      ]
    },
    {
      "cell_type": "code",
      "source": [
        "## select one item randomly from a list\n",
        "\n",
        "status = [\"Normal\",\"Alert\",\"Maintenance\"]\n",
        "random.choice(status)"
      ],
      "metadata": {
        "colab": {
          "base_uri": "https://localhost:8080/",
          "height": 35
        },
        "id": "xCtqs1VzlxtE",
        "outputId": "18333385-c431-45fb-9850-437261f87df0"
      },
      "execution_count": 9,
      "outputs": [
        {
          "output_type": "execute_result",
          "data": {
            "text/plain": [
              "'Maintenance'"
            ],
            "application/vnd.google.colaboratory.intrinsic+json": {
              "type": "string"
            }
          },
          "metadata": {},
          "execution_count": 9
        }
      ]
    },
    {
      "cell_type": "code",
      "source": [
        "## TIP: To see the help over given code, write \"?\"\n",
        "\n",
        "?random.choices"
      ],
      "metadata": {
        "id": "Z8P0hiCRmFNP"
      },
      "execution_count": 10,
      "outputs": []
    },
    {
      "cell_type": "code",
      "source": [
        "## select k randomly selected items instead of 1\n",
        "random.choices(status,k=10)"
      ],
      "metadata": {
        "colab": {
          "base_uri": "https://localhost:8080/"
        },
        "id": "jyaWPCDCmWOd",
        "outputId": "4d4be820-7a3e-468e-86c5-41958e7efd77"
      },
      "execution_count": 11,
      "outputs": [
        {
          "output_type": "execute_result",
          "data": {
            "text/plain": [
              "['Normal',\n",
              " 'Maintenance',\n",
              " 'Normal',\n",
              " 'Normal',\n",
              " 'Maintenance',\n",
              " 'Alert',\n",
              " 'Normal',\n",
              " 'Normal',\n",
              " 'Alert',\n",
              " 'Maintenance']"
            ]
          },
          "metadata": {},
          "execution_count": 11
        }
      ]
    },
    {
      "cell_type": "code",
      "source": [
        "## give say more weightage to Normal\n",
        "status = [\"Normal\",\"Alert\",\"Maintenance\"]\n",
        "weights = [0.7,0.2,0.1]\n",
        "\n",
        "random.choices(status,weights=weights,k=10)"
      ],
      "metadata": {
        "colab": {
          "base_uri": "https://localhost:8080/"
        },
        "id": "t2INdGE5mngc",
        "outputId": "4cebb8a5-74b4-4a79-d606-eabdfb1af657"
      },
      "execution_count": 12,
      "outputs": [
        {
          "output_type": "execute_result",
          "data": {
            "text/plain": [
              "['Normal',\n",
              " 'Normal',\n",
              " 'Normal',\n",
              " 'Maintenance',\n",
              " 'Normal',\n",
              " 'Alert',\n",
              " 'Normal',\n",
              " 'Normal',\n",
              " 'Alert',\n",
              " 'Normal']"
            ]
          },
          "metadata": {},
          "execution_count": 12
        }
      ]
    },
    {
      "cell_type": "code",
      "source": [
        "names = [\"Aakash\",\"Amit\",\"Karthikeya\",\"Shine\"]\n",
        "print(names)"
      ],
      "metadata": {
        "colab": {
          "base_uri": "https://localhost:8080/"
        },
        "id": "ZPK-4APgnm9v",
        "outputId": "5e5f9e57-042b-4bca-f765-a5e2a9ba5587"
      },
      "execution_count": 14,
      "outputs": [
        {
          "output_type": "stream",
          "name": "stdout",
          "text": [
            "['Aakash', 'Amit', 'Karthikeya', 'Shine']\n"
          ]
        }
      ]
    },
    {
      "cell_type": "code",
      "source": [
        "## shuffling -- randomly reorder elements of a list\n",
        "names = [\"Aakash\",\"Amit\",\"Karthikeya\",\"Shine\",\"Sandeep\",\"Chinmay\",\"Kiran\"]\n",
        "random.shuffle(names)\n",
        "print(names)"
      ],
      "metadata": {
        "colab": {
          "base_uri": "https://localhost:8080/"
        },
        "id": "uWIE4_WznPJ9",
        "outputId": "f20f06cc-f1c0-4755-e08d-4e09cdf2e80a"
      },
      "execution_count": 16,
      "outputs": [
        {
          "output_type": "stream",
          "name": "stdout",
          "text": [
            "['Amit', 'Shine', 'Kiran', 'Sandeep', 'Aakash', 'Chinmay', 'Karthikeya']\n"
          ]
        }
      ]
    },
    {
      "cell_type": "code",
      "source": [
        "print(random.uniform(2,30))"
      ],
      "metadata": {
        "colab": {
          "base_uri": "https://localhost:8080/"
        },
        "id": "zr60yZOBoReF",
        "outputId": "5909bed7-4e8f-446e-8221-6896389e5cfd"
      },
      "execution_count": 20,
      "outputs": [
        {
          "output_type": "stream",
          "name": "stdout",
          "text": [
            "23.331191814056687\n"
          ]
        }
      ]
    },
    {
      "cell_type": "code",
      "source": [
        "## fix the random behavior -- important for consistent simulation\n",
        "\n",
        "random.seed(42)\n",
        "print(random.uniform(2,30))"
      ],
      "metadata": {
        "colab": {
          "base_uri": "https://localhost:8080/"
        },
        "id": "UMnNvs0NoEcP",
        "outputId": "1433911e-38f0-43b5-8a29-4a56f5802cf8"
      },
      "execution_count": 23,
      "outputs": [
        {
          "output_type": "stream",
          "name": "stdout",
          "text": [
            "19.903950356820744\n"
          ]
        }
      ]
    },
    {
      "cell_type": "code",
      "source": [
        "## Time, DateTime"
      ],
      "metadata": {
        "id": "_m43iuBeos4O"
      },
      "execution_count": null,
      "outputs": []
    },
    {
      "cell_type": "code",
      "source": [
        "import time\n",
        "print(time.time()) ## returns the current time in seconds since the 1-Jan-1970"
      ],
      "metadata": {
        "colab": {
          "base_uri": "https://localhost:8080/"
        },
        "id": "HyA9KnfGo5Bo",
        "outputId": "d260ea2d-99ae-4aee-8bbb-5b55e62bb9da"
      },
      "execution_count": 24,
      "outputs": [
        {
          "output_type": "stream",
          "name": "stdout",
          "text": [
            "1748767067.8538308\n"
          ]
        }
      ]
    },
    {
      "cell_type": "code",
      "source": [
        "## pause execution for given number of seconds\n",
        "print(\"Hi\")\n",
        "time.sleep(2)\n",
        "print(\"How are you ?\")"
      ],
      "metadata": {
        "colab": {
          "base_uri": "https://localhost:8080/"
        },
        "id": "07Wb4VPtpIWE",
        "outputId": "e4a7242e-67ea-4153-9a6b-d1276c20c050"
      },
      "execution_count": 26,
      "outputs": [
        {
          "output_type": "stream",
          "name": "stdout",
          "text": [
            "Hi\n",
            "How are you ?\n"
          ]
        }
      ]
    },
    {
      "cell_type": "code",
      "source": [
        "## convert seconds passed to the readable string\n",
        "time.ctime(1748767067.8538308)"
      ],
      "metadata": {
        "colab": {
          "base_uri": "https://localhost:8080/",
          "height": 35
        },
        "id": "1NCdbT7_pfVp",
        "outputId": "656517cb-e17a-4b1e-a208-185da4da980e"
      },
      "execution_count": 28,
      "outputs": [
        {
          "output_type": "execute_result",
          "data": {
            "text/plain": [
              "'Sun Jun  1 08:37:47 2025'"
            ],
            "application/vnd.google.colaboratory.intrinsic+json": {
              "type": "string"
            }
          },
          "metadata": {},
          "execution_count": 28
        }
      ]
    },
    {
      "cell_type": "code",
      "source": [
        "time.localtime()"
      ],
      "metadata": {
        "colab": {
          "base_uri": "https://localhost:8080/"
        },
        "id": "6lGYA1s1puv9",
        "outputId": "f7262f99-baad-4213-ac5a-1678fd90bf29"
      },
      "execution_count": 29,
      "outputs": [
        {
          "output_type": "execute_result",
          "data": {
            "text/plain": [
              "time.struct_time(tm_year=2025, tm_mon=6, tm_mday=1, tm_hour=8, tm_min=41, tm_sec=24, tm_wday=6, tm_yday=152, tm_isdst=0)"
            ]
          },
          "metadata": {},
          "execution_count": 29
        }
      ]
    },
    {
      "cell_type": "code",
      "source": [
        "## format the time\n",
        "\n",
        "now = time.localtime()\n",
        "\n",
        "print(time.strftime(\"%y-%m-%d %H:%M:%S\", now))\n",
        "print(time.strftime(\"%Y-%m-%d %H:%M:%S\", now))"
      ],
      "metadata": {
        "colab": {
          "base_uri": "https://localhost:8080/"
        },
        "id": "eMRTxFRAp48A",
        "outputId": "2312ce4c-3c14-48cd-a9de-bb56113ab69d"
      },
      "execution_count": 33,
      "outputs": [
        {
          "output_type": "stream",
          "name": "stdout",
          "text": [
            "25-06-01 08:43:29\n",
            "2025-06-01 08:43:29\n"
          ]
        }
      ]
    },
    {
      "cell_type": "code",
      "source": [
        "from datetime import datetime\n",
        "now = datetime.now()\n",
        "print(now)"
      ],
      "metadata": {
        "colab": {
          "base_uri": "https://localhost:8080/"
        },
        "id": "qPhBMff2qZkr",
        "outputId": "2aaacc44-150d-4f33-fc60-bc1d9d4cf2ea"
      },
      "execution_count": 34,
      "outputs": [
        {
          "output_type": "stream",
          "name": "stdout",
          "text": [
            "2025-06-01 08:44:39.765225\n"
          ]
        }
      ]
    },
    {
      "cell_type": "code",
      "source": [
        "!pip install pytz"
      ],
      "metadata": {
        "colab": {
          "base_uri": "https://localhost:8080/"
        },
        "id": "mLJ8JckTqvJf",
        "outputId": "18c6fe0b-335c-4478-afe9-616e86f45326"
      },
      "execution_count": 35,
      "outputs": [
        {
          "output_type": "stream",
          "name": "stdout",
          "text": [
            "Requirement already satisfied: pytz in /usr/local/lib/python3.11/dist-packages (2025.2)\n"
          ]
        }
      ]
    },
    {
      "cell_type": "code",
      "source": [
        "import pytz"
      ],
      "metadata": {
        "id": "TsvhPebxrAXV"
      },
      "execution_count": 37,
      "outputs": []
    },
    {
      "cell_type": "code",
      "source": [
        "india_timezone = pytz.timezone('Asia/Kolkata')\n",
        "uk_timezone = pytz.timezone('Europe/London')\n",
        "utc_now = datetime.now(pytz.utc)\n",
        "\n",
        "india_time = utc_now.astimezone(india_timezone)\n",
        "uk_time = utc_now.astimezone(uk_timezone)\n",
        "print(f\"Time in India: {india_time} and in UK: {uk_time}\")"
      ],
      "metadata": {
        "colab": {
          "base_uri": "https://localhost:8080/"
        },
        "id": "q923UZmYqxu4",
        "outputId": "dc0cff1d-e62b-4d70-f186-03500fc524cc"
      },
      "execution_count": 40,
      "outputs": [
        {
          "output_type": "stream",
          "name": "stdout",
          "text": [
            "Time in India: 2025-06-01 14:18:59.667878+05:30 and in UK: 2025-06-01 09:48:59.667878+01:00\n"
          ]
        }
      ]
    },
    {
      "cell_type": "code",
      "source": [
        "## add or subtract time\n",
        "\n",
        "from datetime import timedelta\n",
        "now = datetime.now()\n",
        "\n",
        "future = now + timedelta(days=5, hours=2)\n",
        "\n",
        "print(f\"Current time: {now} and Future time: {future}\")"
      ],
      "metadata": {
        "colab": {
          "base_uri": "https://localhost:8080/"
        },
        "id": "USCDX7slr8gN",
        "outputId": "f927304f-522e-4cb9-aedb-c97fd747cab1"
      },
      "execution_count": 41,
      "outputs": [
        {
          "output_type": "stream",
          "name": "stdout",
          "text": [
            "Current time: 2025-06-01 08:52:24.606884 and Future time: 2025-06-06 10:52:24.606884\n"
          ]
        }
      ]
    },
    {
      "cell_type": "code",
      "source": [
        "??dt"
      ],
      "metadata": {
        "id": "KYz64VzHtDS2"
      },
      "execution_count": 50,
      "outputs": []
    },
    {
      "cell_type": "code",
      "source": [],
      "metadata": {
        "id": "yTdgx26XtJtO"
      },
      "execution_count": null,
      "outputs": []
    },
    {
      "cell_type": "code",
      "source": [
        "## parse string to Datetime\n",
        "\n",
        "timestamp = \"2025-06-01 18:45:00\"\n",
        "dt = datetime.strptime(timestamp, \"%Y-%m-%d %H:%M:%S\")\n",
        "\n",
        "year = dt.year\n",
        "month = dt.month\n",
        "day = dt.day\n",
        "hour = dt.hour\n",
        "minute = dt.minute\n",
        "second = dt.second\n",
        "microsecond = dt.microsecond\n",
        "tzinfo = dt.tzinfo\n",
        "print(f''' Year: {year}, Month: {month}, Day: {day}, Hour: {hour}\n",
        "Minute: {minute}, Second: {second}, TimezoneInfo: {tzinfo}''')"
      ],
      "metadata": {
        "colab": {
          "base_uri": "https://localhost:8080/"
        },
        "id": "t6nr0UTZsgJq",
        "outputId": "86dd2c7e-f058-4ca6-c243-dda738010ddb"
      },
      "execution_count": 54,
      "outputs": [
        {
          "output_type": "stream",
          "name": "stdout",
          "text": [
            " Year: 2025, Month: 6, Day: 1, Hour: 18\n",
            "Minute: 45, Second: 0, TimezoneInfo: None\n"
          ]
        }
      ]
    },
    {
      "cell_type": "code",
      "source": [
        "## Function\n",
        "\n",
        "'''\n",
        "1. What ? -- Reusable block of code that performs specific task.\n",
        "2. Why ? -- Reduce code repetition and improve readability. Write it once and use as many times as needed.\n",
        " Easier to debug and maintain\n",
        " Modular design\n",
        "3. Analogy -- Think of function like a machine tools that performs specific operation.\n",
        "4. Describe\n",
        "  A. def -- keyword\n",
        "  B. greet -- Function name\n",
        "  C. () -- parenthesis\n",
        "    C.1. name -\n",
        "  D: : -- colon\n",
        "5. Best Practices\n",
        "  * Use meaningful function names..\n",
        "  * keep one responsibility per function..\n",
        "  * Write Comments/docstring..\n",
        "'''"
      ],
      "metadata": {
        "id": "JpBzrC3huT8u"
      },
      "execution_count": null,
      "outputs": []
    },
    {
      "cell_type": "code",
      "source": [
        "def greet(name):\n",
        "  print(f\"Hi {name}, Welcome to function concept !!\")"
      ],
      "metadata": {
        "id": "o3VeUZnCuVeT"
      },
      "execution_count": 58,
      "outputs": []
    },
    {
      "cell_type": "code",
      "source": [
        "greet(name = \"Sumit\")"
      ],
      "metadata": {
        "colab": {
          "base_uri": "https://localhost:8080/"
        },
        "id": "WrdnwMvAu_p_",
        "outputId": "f1420c62-2819-497c-e10d-f26165756c8e"
      },
      "execution_count": 61,
      "outputs": [
        {
          "output_type": "stream",
          "name": "stdout",
          "text": [
            "Hi Sumit, Welcome to function concept !!\n"
          ]
        }
      ]
    },
    {
      "cell_type": "code",
      "source": [
        "## Function with parameters"
      ],
      "metadata": {
        "id": "zRSHZWeEvmwS"
      },
      "execution_count": null,
      "outputs": []
    },
    {
      "cell_type": "code",
      "source": [
        "def show_temp(machine_name,temp):\n",
        "  print(f\"Machine {machine_name} has temperature {temp}\")"
      ],
      "metadata": {
        "id": "SJ_YFwDKvo0c"
      },
      "execution_count": 62,
      "outputs": []
    },
    {
      "cell_type": "code",
      "source": [
        "show_temp(\"CNC\",30.4)"
      ],
      "metadata": {
        "colab": {
          "base_uri": "https://localhost:8080/"
        },
        "id": "cGUjWCniwNDw",
        "outputId": "91014300-7de4-4bf7-f4a6-771d3c07dab5"
      },
      "execution_count": 63,
      "outputs": [
        {
          "output_type": "stream",
          "name": "stdout",
          "text": [
            "Machine CNC has temperature 30.4\n"
          ]
        }
      ]
    },
    {
      "cell_type": "code",
      "source": [
        "## Function which returns values"
      ],
      "metadata": {
        "id": "8MoBbdd6wZm8"
      },
      "execution_count": null,
      "outputs": []
    },
    {
      "cell_type": "code",
      "source": [
        "def calculate_efficiency(units_produced, units_defective):\n",
        "  yield_units = units_produced - units_defective\n",
        "  efficency = (yield_units/units_produced)*100\n",
        "  return efficency"
      ],
      "metadata": {
        "id": "j4JZKh7nwb2W"
      },
      "execution_count": 64,
      "outputs": []
    },
    {
      "cell_type": "code",
      "source": [
        "eff = calculate_efficiency(100,20)"
      ],
      "metadata": {
        "id": "T8PeoWYswzOi"
      },
      "execution_count": 66,
      "outputs": []
    },
    {
      "cell_type": "code",
      "source": [
        "print(eff)"
      ],
      "metadata": {
        "colab": {
          "base_uri": "https://localhost:8080/"
        },
        "id": "0NVeQG3xw6Io",
        "outputId": "4cf904ad-8631-459e-dac5-5a67741e623f"
      },
      "execution_count": 67,
      "outputs": [
        {
          "output_type": "stream",
          "name": "stdout",
          "text": [
            "80.0\n"
          ]
        }
      ]
    },
    {
      "cell_type": "code",
      "source": [
        "## Conditional Logic\n",
        "\n",
        "'''\n",
        "1. To control the flow of program\n",
        "2. if, elif, else\n",
        "3. Syntax\n",
        "  if condition:\n",
        "    ## code if condition is True\n",
        "  elif another_condition:\n",
        "    ## code if this second condition is True\n",
        "  else:\n",
        "    ## Code if none of the above are True\n",
        "'''"
      ],
      "metadata": {
        "id": "-Urkas2tyBvW"
      },
      "execution_count": null,
      "outputs": []
    },
    {
      "cell_type": "code",
      "source": [
        "## Basic If\n",
        "temperature = 45\n",
        "if temperature>40:\n",
        "  print(\"Alert: High Temperature!\")"
      ],
      "metadata": {
        "colab": {
          "base_uri": "https://localhost:8080/"
        },
        "id": "qkijoVgFyfrj",
        "outputId": "2fd7c028-c9d3-4f13-fc40-a35d6006d022"
      },
      "execution_count": 68,
      "outputs": [
        {
          "output_type": "stream",
          "name": "stdout",
          "text": [
            "Alert: High Temperature!\n"
          ]
        }
      ]
    },
    {
      "cell_type": "code",
      "source": [
        "## If-Else\n",
        "\n",
        "temperature = 34\n",
        "if temperature>40:\n",
        "  print(\"Alert: High Temperature!\")\n",
        "else:\n",
        "  print(\"Normal Temperature\")"
      ],
      "metadata": {
        "colab": {
          "base_uri": "https://localhost:8080/"
        },
        "id": "rsk23K9Uyrgf",
        "outputId": "07ae8d77-9239-48c6-8152-e8f7058bc67f"
      },
      "execution_count": 69,
      "outputs": [
        {
          "output_type": "stream",
          "name": "stdout",
          "text": [
            "Normal Temperature\n"
          ]
        }
      ]
    },
    {
      "cell_type": "code",
      "source": [
        "## If-Elif-Else\n",
        "\n",
        "# temperature=34\n",
        "temperature=20\n",
        "\n",
        "\n",
        "if temperature>50:\n",
        "  print(\"Very high temperature\")\n",
        "elif temperature>=30 and temperature<=50:\n",
        "  print(\"High Temperature\")\n",
        "else:\n",
        "  print(\"Normal Temperature\")"
      ],
      "metadata": {
        "colab": {
          "base_uri": "https://localhost:8080/"
        },
        "id": "hq_hkVeey5kt",
        "outputId": "ac9c06b9-1200-48bc-e97f-e85906e35bab"
      },
      "execution_count": 71,
      "outputs": [
        {
          "output_type": "stream",
          "name": "stdout",
          "text": [
            "Normal Temperature\n"
          ]
        }
      ]
    },
    {
      "cell_type": "code",
      "source": [
        "## Multi condition logic with and, or"
      ],
      "metadata": {
        "id": "mmyqKtw6zmoP"
      },
      "execution_count": null,
      "outputs": []
    },
    {
      "cell_type": "code",
      "source": [
        "pressure = 95\n",
        "temperature = 45\n",
        "\n",
        "if pressure>90 and temperature>40:\n",
        "  print(\"Warning: System Overload\")"
      ],
      "metadata": {
        "colab": {
          "base_uri": "https://localhost:8080/"
        },
        "id": "BYLZRV55zrCF",
        "outputId": "a08fa98b-206e-4da7-d4a0-4c983a317fd8"
      },
      "execution_count": 72,
      "outputs": [
        {
          "output_type": "stream",
          "name": "stdout",
          "text": [
            "Warning: System Overload\n"
          ]
        }
      ]
    },
    {
      "cell_type": "code",
      "source": [
        "if pressure>90 or temperature>40:\n",
        "  print(\"System needs attention\")"
      ],
      "metadata": {
        "colab": {
          "base_uri": "https://localhost:8080/"
        },
        "id": "LQaGO8d2z-Kt",
        "outputId": "b0128be8-dbb5-4f61-f03b-50b84a61254d"
      },
      "execution_count": 73,
      "outputs": [
        {
          "output_type": "stream",
          "name": "stdout",
          "text": [
            "System needs attention\n"
          ]
        }
      ]
    },
    {
      "cell_type": "code",
      "source": [
        "## Use in function"
      ],
      "metadata": {
        "id": "768SaLeX0Q2i"
      },
      "execution_count": null,
      "outputs": []
    },
    {
      "cell_type": "code",
      "source": [
        "def check_status(temp,vibration):\n",
        "  if temp>70:\n",
        "    return \"Shutdown due to overheat\"\n",
        "  elif vibration>8:\n",
        "    return \"Maintenance Required\"\n",
        "  else:\n",
        "    return \"Normal Operation\""
      ],
      "metadata": {
        "id": "7aNHCQj20SgU"
      },
      "execution_count": 74,
      "outputs": []
    },
    {
      "cell_type": "code",
      "source": [
        "check_status(72,7.5)"
      ],
      "metadata": {
        "colab": {
          "base_uri": "https://localhost:8080/",
          "height": 35
        },
        "id": "Im4EMuPe0lCq",
        "outputId": "60dad1db-9136-4745-ceff-35524758f373"
      },
      "execution_count": 75,
      "outputs": [
        {
          "output_type": "execute_result",
          "data": {
            "text/plain": [
              "'Shutdown due to overheat'"
            ],
            "application/vnd.google.colaboratory.intrinsic+json": {
              "type": "string"
            }
          },
          "metadata": {},
          "execution_count": 75
        }
      ]
    },
    {
      "cell_type": "code",
      "source": [
        "### Nested If condition"
      ],
      "metadata": {
        "id": "pLOFSA_F0rZW"
      },
      "execution_count": null,
      "outputs": []
    },
    {
      "cell_type": "code",
      "source": [
        "def production_check(units, defects):\n",
        "  if units>0:\n",
        "    defect_rate = (defects/units) * 100\n",
        "    if defect_rate > 5:\n",
        "      return \"High Defect Rate\"\n",
        "    else:\n",
        "      return \"Acceptable Quality\"\n",
        "  else:\n",
        "    return \"No Production\""
      ],
      "metadata": {
        "id": "IULjTlVQ0vYd"
      },
      "execution_count": 76,
      "outputs": []
    },
    {
      "cell_type": "code",
      "source": [
        "production_check(0,7)"
      ],
      "metadata": {
        "colab": {
          "base_uri": "https://localhost:8080/",
          "height": 35
        },
        "id": "fTrvUGwE1M5v",
        "outputId": "a179e183-a7d5-4b89-f176-2817ebd25ea3"
      },
      "execution_count": 79,
      "outputs": [
        {
          "output_type": "execute_result",
          "data": {
            "text/plain": [
              "'No Production'"
            ],
            "application/vnd.google.colaboratory.intrinsic+json": {
              "type": "string"
            }
          },
          "metadata": {},
          "execution_count": 79
        }
      ]
    },
    {
      "cell_type": "code",
      "source": [
        "production_check(100,7)"
      ],
      "metadata": {
        "colab": {
          "base_uri": "https://localhost:8080/",
          "height": 35
        },
        "id": "CxRo4b9V1KQD",
        "outputId": "2f474b96-973d-47e1-f867-8de415fd7220"
      },
      "execution_count": 77,
      "outputs": [
        {
          "output_type": "execute_result",
          "data": {
            "text/plain": [
              "'High Defect Rate'"
            ],
            "application/vnd.google.colaboratory.intrinsic+json": {
              "type": "string"
            }
          },
          "metadata": {},
          "execution_count": 77
        }
      ]
    },
    {
      "cell_type": "code",
      "source": [
        "## Compact If-Else (one line)"
      ],
      "metadata": {
        "id": "v6K09Im91YXG"
      },
      "execution_count": null,
      "outputs": []
    },
    {
      "cell_type": "code",
      "source": [
        "temp = 20\n",
        "status = \"Hot\" if temp>25 else \"Cold\"\n",
        "print(status)"
      ],
      "metadata": {
        "colab": {
          "base_uri": "https://localhost:8080/"
        },
        "id": "ZeZGlSfx1cIY",
        "outputId": "822a5c7d-73ac-46d8-c95b-a407353df80c"
      },
      "execution_count": 80,
      "outputs": [
        {
          "output_type": "stream",
          "name": "stdout",
          "text": [
            "Cold\n"
          ]
        }
      ]
    },
    {
      "cell_type": "code",
      "source": [
        "## save dataframe into excel"
      ],
      "metadata": {
        "id": "p0CF0C1R4TSq"
      },
      "execution_count": null,
      "outputs": []
    },
    {
      "cell_type": "code",
      "source": [
        "import pandas as pd\n",
        "units_produced = [random.randint(80,100) for _ in range(50)]\n",
        "defective_units = [random.randint(0,10) for _ in range(50)]\n",
        "data = {\n",
        "    \"Units Produced\":units_produced,\n",
        "    \"Defective Units\": defective_units\n",
        "}\n",
        "\n",
        "df = pd.DataFrame(data)"
      ],
      "metadata": {
        "id": "nkMjM_Nu4UBF"
      },
      "execution_count": 82,
      "outputs": []
    },
    {
      "cell_type": "code",
      "source": [
        "df.to_excel(\"data.xlsx\")"
      ],
      "metadata": {
        "id": "24DxIceU481m"
      },
      "execution_count": 84,
      "outputs": []
    },
    {
      "cell_type": "code",
      "source": [
        "df"
      ],
      "metadata": {
        "colab": {
          "base_uri": "https://localhost:8080/",
          "height": 1000
        },
        "id": "EEUYAA_v46JP",
        "outputId": "04ab482f-c20c-4bb5-ec54-f7092c4b01a6"
      },
      "execution_count": 83,
      "outputs": [
        {
          "output_type": "execute_result",
          "data": {
            "text/plain": [
              "    Units Produced  Defective Units\n",
              "0               98                7\n",
              "1               90                0\n",
              "2               86                4\n",
              "3              100                8\n",
              "4               95                2\n",
              "5               92                8\n",
              "6              100                1\n",
              "7               94               10\n",
              "8               84                4\n",
              "9               88               10\n",
              "10              84                8\n",
              "11              87                9\n",
              "12              97                3\n",
              "13              97                2\n",
              "14              88                5\n",
              "15              98                2\n",
              "16              93                8\n",
              "17              98                8\n",
              "18              92                0\n",
              "19              91                9\n",
              "20              87                5\n",
              "21              84                7\n",
              "22              96                0\n",
              "23              95                1\n",
              "24              82                5\n",
              "25              81                4\n",
              "26              83                3\n",
              "27              84                0\n",
              "28             100                3\n",
              "29              85                9\n",
              "30              93                1\n",
              "31              99                1\n",
              "32              82                7\n",
              "33              92                1\n",
              "34              92                8\n",
              "35              99                2\n",
              "36              94                2\n",
              "37              96               10\n",
              "38              88                7\n",
              "39              97                8\n",
              "40              80                2\n",
              "41              83                4\n",
              "42              97                8\n",
              "43              88                9\n",
              "44             100                6\n",
              "45              90                3\n",
              "46              83                8\n",
              "47              89                3\n",
              "48              93                4\n",
              "49              85                6"
            ],
            "text/html": [
              "\n",
              "  <div id=\"df-91cb2665-e1d4-4014-b09d-0ef3da645e21\" class=\"colab-df-container\">\n",
              "    <div>\n",
              "<style scoped>\n",
              "    .dataframe tbody tr th:only-of-type {\n",
              "        vertical-align: middle;\n",
              "    }\n",
              "\n",
              "    .dataframe tbody tr th {\n",
              "        vertical-align: top;\n",
              "    }\n",
              "\n",
              "    .dataframe thead th {\n",
              "        text-align: right;\n",
              "    }\n",
              "</style>\n",
              "<table border=\"1\" class=\"dataframe\">\n",
              "  <thead>\n",
              "    <tr style=\"text-align: right;\">\n",
              "      <th></th>\n",
              "      <th>Units Produced</th>\n",
              "      <th>Defective Units</th>\n",
              "    </tr>\n",
              "  </thead>\n",
              "  <tbody>\n",
              "    <tr>\n",
              "      <th>0</th>\n",
              "      <td>98</td>\n",
              "      <td>7</td>\n",
              "    </tr>\n",
              "    <tr>\n",
              "      <th>1</th>\n",
              "      <td>90</td>\n",
              "      <td>0</td>\n",
              "    </tr>\n",
              "    <tr>\n",
              "      <th>2</th>\n",
              "      <td>86</td>\n",
              "      <td>4</td>\n",
              "    </tr>\n",
              "    <tr>\n",
              "      <th>3</th>\n",
              "      <td>100</td>\n",
              "      <td>8</td>\n",
              "    </tr>\n",
              "    <tr>\n",
              "      <th>4</th>\n",
              "      <td>95</td>\n",
              "      <td>2</td>\n",
              "    </tr>\n",
              "    <tr>\n",
              "      <th>5</th>\n",
              "      <td>92</td>\n",
              "      <td>8</td>\n",
              "    </tr>\n",
              "    <tr>\n",
              "      <th>6</th>\n",
              "      <td>100</td>\n",
              "      <td>1</td>\n",
              "    </tr>\n",
              "    <tr>\n",
              "      <th>7</th>\n",
              "      <td>94</td>\n",
              "      <td>10</td>\n",
              "    </tr>\n",
              "    <tr>\n",
              "      <th>8</th>\n",
              "      <td>84</td>\n",
              "      <td>4</td>\n",
              "    </tr>\n",
              "    <tr>\n",
              "      <th>9</th>\n",
              "      <td>88</td>\n",
              "      <td>10</td>\n",
              "    </tr>\n",
              "    <tr>\n",
              "      <th>10</th>\n",
              "      <td>84</td>\n",
              "      <td>8</td>\n",
              "    </tr>\n",
              "    <tr>\n",
              "      <th>11</th>\n",
              "      <td>87</td>\n",
              "      <td>9</td>\n",
              "    </tr>\n",
              "    <tr>\n",
              "      <th>12</th>\n",
              "      <td>97</td>\n",
              "      <td>3</td>\n",
              "    </tr>\n",
              "    <tr>\n",
              "      <th>13</th>\n",
              "      <td>97</td>\n",
              "      <td>2</td>\n",
              "    </tr>\n",
              "    <tr>\n",
              "      <th>14</th>\n",
              "      <td>88</td>\n",
              "      <td>5</td>\n",
              "    </tr>\n",
              "    <tr>\n",
              "      <th>15</th>\n",
              "      <td>98</td>\n",
              "      <td>2</td>\n",
              "    </tr>\n",
              "    <tr>\n",
              "      <th>16</th>\n",
              "      <td>93</td>\n",
              "      <td>8</td>\n",
              "    </tr>\n",
              "    <tr>\n",
              "      <th>17</th>\n",
              "      <td>98</td>\n",
              "      <td>8</td>\n",
              "    </tr>\n",
              "    <tr>\n",
              "      <th>18</th>\n",
              "      <td>92</td>\n",
              "      <td>0</td>\n",
              "    </tr>\n",
              "    <tr>\n",
              "      <th>19</th>\n",
              "      <td>91</td>\n",
              "      <td>9</td>\n",
              "    </tr>\n",
              "    <tr>\n",
              "      <th>20</th>\n",
              "      <td>87</td>\n",
              "      <td>5</td>\n",
              "    </tr>\n",
              "    <tr>\n",
              "      <th>21</th>\n",
              "      <td>84</td>\n",
              "      <td>7</td>\n",
              "    </tr>\n",
              "    <tr>\n",
              "      <th>22</th>\n",
              "      <td>96</td>\n",
              "      <td>0</td>\n",
              "    </tr>\n",
              "    <tr>\n",
              "      <th>23</th>\n",
              "      <td>95</td>\n",
              "      <td>1</td>\n",
              "    </tr>\n",
              "    <tr>\n",
              "      <th>24</th>\n",
              "      <td>82</td>\n",
              "      <td>5</td>\n",
              "    </tr>\n",
              "    <tr>\n",
              "      <th>25</th>\n",
              "      <td>81</td>\n",
              "      <td>4</td>\n",
              "    </tr>\n",
              "    <tr>\n",
              "      <th>26</th>\n",
              "      <td>83</td>\n",
              "      <td>3</td>\n",
              "    </tr>\n",
              "    <tr>\n",
              "      <th>27</th>\n",
              "      <td>84</td>\n",
              "      <td>0</td>\n",
              "    </tr>\n",
              "    <tr>\n",
              "      <th>28</th>\n",
              "      <td>100</td>\n",
              "      <td>3</td>\n",
              "    </tr>\n",
              "    <tr>\n",
              "      <th>29</th>\n",
              "      <td>85</td>\n",
              "      <td>9</td>\n",
              "    </tr>\n",
              "    <tr>\n",
              "      <th>30</th>\n",
              "      <td>93</td>\n",
              "      <td>1</td>\n",
              "    </tr>\n",
              "    <tr>\n",
              "      <th>31</th>\n",
              "      <td>99</td>\n",
              "      <td>1</td>\n",
              "    </tr>\n",
              "    <tr>\n",
              "      <th>32</th>\n",
              "      <td>82</td>\n",
              "      <td>7</td>\n",
              "    </tr>\n",
              "    <tr>\n",
              "      <th>33</th>\n",
              "      <td>92</td>\n",
              "      <td>1</td>\n",
              "    </tr>\n",
              "    <tr>\n",
              "      <th>34</th>\n",
              "      <td>92</td>\n",
              "      <td>8</td>\n",
              "    </tr>\n",
              "    <tr>\n",
              "      <th>35</th>\n",
              "      <td>99</td>\n",
              "      <td>2</td>\n",
              "    </tr>\n",
              "    <tr>\n",
              "      <th>36</th>\n",
              "      <td>94</td>\n",
              "      <td>2</td>\n",
              "    </tr>\n",
              "    <tr>\n",
              "      <th>37</th>\n",
              "      <td>96</td>\n",
              "      <td>10</td>\n",
              "    </tr>\n",
              "    <tr>\n",
              "      <th>38</th>\n",
              "      <td>88</td>\n",
              "      <td>7</td>\n",
              "    </tr>\n",
              "    <tr>\n",
              "      <th>39</th>\n",
              "      <td>97</td>\n",
              "      <td>8</td>\n",
              "    </tr>\n",
              "    <tr>\n",
              "      <th>40</th>\n",
              "      <td>80</td>\n",
              "      <td>2</td>\n",
              "    </tr>\n",
              "    <tr>\n",
              "      <th>41</th>\n",
              "      <td>83</td>\n",
              "      <td>4</td>\n",
              "    </tr>\n",
              "    <tr>\n",
              "      <th>42</th>\n",
              "      <td>97</td>\n",
              "      <td>8</td>\n",
              "    </tr>\n",
              "    <tr>\n",
              "      <th>43</th>\n",
              "      <td>88</td>\n",
              "      <td>9</td>\n",
              "    </tr>\n",
              "    <tr>\n",
              "      <th>44</th>\n",
              "      <td>100</td>\n",
              "      <td>6</td>\n",
              "    </tr>\n",
              "    <tr>\n",
              "      <th>45</th>\n",
              "      <td>90</td>\n",
              "      <td>3</td>\n",
              "    </tr>\n",
              "    <tr>\n",
              "      <th>46</th>\n",
              "      <td>83</td>\n",
              "      <td>8</td>\n",
              "    </tr>\n",
              "    <tr>\n",
              "      <th>47</th>\n",
              "      <td>89</td>\n",
              "      <td>3</td>\n",
              "    </tr>\n",
              "    <tr>\n",
              "      <th>48</th>\n",
              "      <td>93</td>\n",
              "      <td>4</td>\n",
              "    </tr>\n",
              "    <tr>\n",
              "      <th>49</th>\n",
              "      <td>85</td>\n",
              "      <td>6</td>\n",
              "    </tr>\n",
              "  </tbody>\n",
              "</table>\n",
              "</div>\n",
              "    <div class=\"colab-df-buttons\">\n",
              "\n",
              "  <div class=\"colab-df-container\">\n",
              "    <button class=\"colab-df-convert\" onclick=\"convertToInteractive('df-91cb2665-e1d4-4014-b09d-0ef3da645e21')\"\n",
              "            title=\"Convert this dataframe to an interactive table.\"\n",
              "            style=\"display:none;\">\n",
              "\n",
              "  <svg xmlns=\"http://www.w3.org/2000/svg\" height=\"24px\" viewBox=\"0 -960 960 960\">\n",
              "    <path d=\"M120-120v-720h720v720H120Zm60-500h600v-160H180v160Zm220 220h160v-160H400v160Zm0 220h160v-160H400v160ZM180-400h160v-160H180v160Zm440 0h160v-160H620v160ZM180-180h160v-160H180v160Zm440 0h160v-160H620v160Z\"/>\n",
              "  </svg>\n",
              "    </button>\n",
              "\n",
              "  <style>\n",
              "    .colab-df-container {\n",
              "      display:flex;\n",
              "      gap: 12px;\n",
              "    }\n",
              "\n",
              "    .colab-df-convert {\n",
              "      background-color: #E8F0FE;\n",
              "      border: none;\n",
              "      border-radius: 50%;\n",
              "      cursor: pointer;\n",
              "      display: none;\n",
              "      fill: #1967D2;\n",
              "      height: 32px;\n",
              "      padding: 0 0 0 0;\n",
              "      width: 32px;\n",
              "    }\n",
              "\n",
              "    .colab-df-convert:hover {\n",
              "      background-color: #E2EBFA;\n",
              "      box-shadow: 0px 1px 2px rgba(60, 64, 67, 0.3), 0px 1px 3px 1px rgba(60, 64, 67, 0.15);\n",
              "      fill: #174EA6;\n",
              "    }\n",
              "\n",
              "    .colab-df-buttons div {\n",
              "      margin-bottom: 4px;\n",
              "    }\n",
              "\n",
              "    [theme=dark] .colab-df-convert {\n",
              "      background-color: #3B4455;\n",
              "      fill: #D2E3FC;\n",
              "    }\n",
              "\n",
              "    [theme=dark] .colab-df-convert:hover {\n",
              "      background-color: #434B5C;\n",
              "      box-shadow: 0px 1px 3px 1px rgba(0, 0, 0, 0.15);\n",
              "      filter: drop-shadow(0px 1px 2px rgba(0, 0, 0, 0.3));\n",
              "      fill: #FFFFFF;\n",
              "    }\n",
              "  </style>\n",
              "\n",
              "    <script>\n",
              "      const buttonEl =\n",
              "        document.querySelector('#df-91cb2665-e1d4-4014-b09d-0ef3da645e21 button.colab-df-convert');\n",
              "      buttonEl.style.display =\n",
              "        google.colab.kernel.accessAllowed ? 'block' : 'none';\n",
              "\n",
              "      async function convertToInteractive(key) {\n",
              "        const element = document.querySelector('#df-91cb2665-e1d4-4014-b09d-0ef3da645e21');\n",
              "        const dataTable =\n",
              "          await google.colab.kernel.invokeFunction('convertToInteractive',\n",
              "                                                    [key], {});\n",
              "        if (!dataTable) return;\n",
              "\n",
              "        const docLinkHtml = 'Like what you see? Visit the ' +\n",
              "          '<a target=\"_blank\" href=https://colab.research.google.com/notebooks/data_table.ipynb>data table notebook</a>'\n",
              "          + ' to learn more about interactive tables.';\n",
              "        element.innerHTML = '';\n",
              "        dataTable['output_type'] = 'display_data';\n",
              "        await google.colab.output.renderOutput(dataTable, element);\n",
              "        const docLink = document.createElement('div');\n",
              "        docLink.innerHTML = docLinkHtml;\n",
              "        element.appendChild(docLink);\n",
              "      }\n",
              "    </script>\n",
              "  </div>\n",
              "\n",
              "\n",
              "    <div id=\"df-19d36d14-8757-4d77-a3c4-2afafe35beda\">\n",
              "      <button class=\"colab-df-quickchart\" onclick=\"quickchart('df-19d36d14-8757-4d77-a3c4-2afafe35beda')\"\n",
              "                title=\"Suggest charts\"\n",
              "                style=\"display:none;\">\n",
              "\n",
              "<svg xmlns=\"http://www.w3.org/2000/svg\" height=\"24px\"viewBox=\"0 0 24 24\"\n",
              "     width=\"24px\">\n",
              "    <g>\n",
              "        <path d=\"M19 3H5c-1.1 0-2 .9-2 2v14c0 1.1.9 2 2 2h14c1.1 0 2-.9 2-2V5c0-1.1-.9-2-2-2zM9 17H7v-7h2v7zm4 0h-2V7h2v10zm4 0h-2v-4h2v4z\"/>\n",
              "    </g>\n",
              "</svg>\n",
              "      </button>\n",
              "\n",
              "<style>\n",
              "  .colab-df-quickchart {\n",
              "      --bg-color: #E8F0FE;\n",
              "      --fill-color: #1967D2;\n",
              "      --hover-bg-color: #E2EBFA;\n",
              "      --hover-fill-color: #174EA6;\n",
              "      --disabled-fill-color: #AAA;\n",
              "      --disabled-bg-color: #DDD;\n",
              "  }\n",
              "\n",
              "  [theme=dark] .colab-df-quickchart {\n",
              "      --bg-color: #3B4455;\n",
              "      --fill-color: #D2E3FC;\n",
              "      --hover-bg-color: #434B5C;\n",
              "      --hover-fill-color: #FFFFFF;\n",
              "      --disabled-bg-color: #3B4455;\n",
              "      --disabled-fill-color: #666;\n",
              "  }\n",
              "\n",
              "  .colab-df-quickchart {\n",
              "    background-color: var(--bg-color);\n",
              "    border: none;\n",
              "    border-radius: 50%;\n",
              "    cursor: pointer;\n",
              "    display: none;\n",
              "    fill: var(--fill-color);\n",
              "    height: 32px;\n",
              "    padding: 0;\n",
              "    width: 32px;\n",
              "  }\n",
              "\n",
              "  .colab-df-quickchart:hover {\n",
              "    background-color: var(--hover-bg-color);\n",
              "    box-shadow: 0 1px 2px rgba(60, 64, 67, 0.3), 0 1px 3px 1px rgba(60, 64, 67, 0.15);\n",
              "    fill: var(--button-hover-fill-color);\n",
              "  }\n",
              "\n",
              "  .colab-df-quickchart-complete:disabled,\n",
              "  .colab-df-quickchart-complete:disabled:hover {\n",
              "    background-color: var(--disabled-bg-color);\n",
              "    fill: var(--disabled-fill-color);\n",
              "    box-shadow: none;\n",
              "  }\n",
              "\n",
              "  .colab-df-spinner {\n",
              "    border: 2px solid var(--fill-color);\n",
              "    border-color: transparent;\n",
              "    border-bottom-color: var(--fill-color);\n",
              "    animation:\n",
              "      spin 1s steps(1) infinite;\n",
              "  }\n",
              "\n",
              "  @keyframes spin {\n",
              "    0% {\n",
              "      border-color: transparent;\n",
              "      border-bottom-color: var(--fill-color);\n",
              "      border-left-color: var(--fill-color);\n",
              "    }\n",
              "    20% {\n",
              "      border-color: transparent;\n",
              "      border-left-color: var(--fill-color);\n",
              "      border-top-color: var(--fill-color);\n",
              "    }\n",
              "    30% {\n",
              "      border-color: transparent;\n",
              "      border-left-color: var(--fill-color);\n",
              "      border-top-color: var(--fill-color);\n",
              "      border-right-color: var(--fill-color);\n",
              "    }\n",
              "    40% {\n",
              "      border-color: transparent;\n",
              "      border-right-color: var(--fill-color);\n",
              "      border-top-color: var(--fill-color);\n",
              "    }\n",
              "    60% {\n",
              "      border-color: transparent;\n",
              "      border-right-color: var(--fill-color);\n",
              "    }\n",
              "    80% {\n",
              "      border-color: transparent;\n",
              "      border-right-color: var(--fill-color);\n",
              "      border-bottom-color: var(--fill-color);\n",
              "    }\n",
              "    90% {\n",
              "      border-color: transparent;\n",
              "      border-bottom-color: var(--fill-color);\n",
              "    }\n",
              "  }\n",
              "</style>\n",
              "\n",
              "      <script>\n",
              "        async function quickchart(key) {\n",
              "          const quickchartButtonEl =\n",
              "            document.querySelector('#' + key + ' button');\n",
              "          quickchartButtonEl.disabled = true;  // To prevent multiple clicks.\n",
              "          quickchartButtonEl.classList.add('colab-df-spinner');\n",
              "          try {\n",
              "            const charts = await google.colab.kernel.invokeFunction(\n",
              "                'suggestCharts', [key], {});\n",
              "          } catch (error) {\n",
              "            console.error('Error during call to suggestCharts:', error);\n",
              "          }\n",
              "          quickchartButtonEl.classList.remove('colab-df-spinner');\n",
              "          quickchartButtonEl.classList.add('colab-df-quickchart-complete');\n",
              "        }\n",
              "        (() => {\n",
              "          let quickchartButtonEl =\n",
              "            document.querySelector('#df-19d36d14-8757-4d77-a3c4-2afafe35beda button');\n",
              "          quickchartButtonEl.style.display =\n",
              "            google.colab.kernel.accessAllowed ? 'block' : 'none';\n",
              "        })();\n",
              "      </script>\n",
              "    </div>\n",
              "\n",
              "  <div id=\"id_f7e77b56-925a-4e3b-9c84-f048907f0b15\">\n",
              "    <style>\n",
              "      .colab-df-generate {\n",
              "        background-color: #E8F0FE;\n",
              "        border: none;\n",
              "        border-radius: 50%;\n",
              "        cursor: pointer;\n",
              "        display: none;\n",
              "        fill: #1967D2;\n",
              "        height: 32px;\n",
              "        padding: 0 0 0 0;\n",
              "        width: 32px;\n",
              "      }\n",
              "\n",
              "      .colab-df-generate:hover {\n",
              "        background-color: #E2EBFA;\n",
              "        box-shadow: 0px 1px 2px rgba(60, 64, 67, 0.3), 0px 1px 3px 1px rgba(60, 64, 67, 0.15);\n",
              "        fill: #174EA6;\n",
              "      }\n",
              "\n",
              "      [theme=dark] .colab-df-generate {\n",
              "        background-color: #3B4455;\n",
              "        fill: #D2E3FC;\n",
              "      }\n",
              "\n",
              "      [theme=dark] .colab-df-generate:hover {\n",
              "        background-color: #434B5C;\n",
              "        box-shadow: 0px 1px 3px 1px rgba(0, 0, 0, 0.15);\n",
              "        filter: drop-shadow(0px 1px 2px rgba(0, 0, 0, 0.3));\n",
              "        fill: #FFFFFF;\n",
              "      }\n",
              "    </style>\n",
              "    <button class=\"colab-df-generate\" onclick=\"generateWithVariable('df')\"\n",
              "            title=\"Generate code using this dataframe.\"\n",
              "            style=\"display:none;\">\n",
              "\n",
              "  <svg xmlns=\"http://www.w3.org/2000/svg\" height=\"24px\"viewBox=\"0 0 24 24\"\n",
              "       width=\"24px\">\n",
              "    <path d=\"M7,19H8.4L18.45,9,17,7.55,7,17.6ZM5,21V16.75L18.45,3.32a2,2,0,0,1,2.83,0l1.4,1.43a1.91,1.91,0,0,1,.58,1.4,1.91,1.91,0,0,1-.58,1.4L9.25,21ZM18.45,9,17,7.55Zm-12,3A5.31,5.31,0,0,0,4.9,8.1,5.31,5.31,0,0,0,1,6.5,5.31,5.31,0,0,0,4.9,4.9,5.31,5.31,0,0,0,6.5,1,5.31,5.31,0,0,0,8.1,4.9,5.31,5.31,0,0,0,12,6.5,5.46,5.46,0,0,0,6.5,12Z\"/>\n",
              "  </svg>\n",
              "    </button>\n",
              "    <script>\n",
              "      (() => {\n",
              "      const buttonEl =\n",
              "        document.querySelector('#id_f7e77b56-925a-4e3b-9c84-f048907f0b15 button.colab-df-generate');\n",
              "      buttonEl.style.display =\n",
              "        google.colab.kernel.accessAllowed ? 'block' : 'none';\n",
              "\n",
              "      buttonEl.onclick = () => {\n",
              "        google.colab.notebook.generateWithVariable('df');\n",
              "      }\n",
              "      })();\n",
              "    </script>\n",
              "  </div>\n",
              "\n",
              "    </div>\n",
              "  </div>\n"
            ],
            "application/vnd.google.colaboratory.intrinsic+json": {
              "type": "dataframe",
              "variable_name": "df",
              "summary": "{\n  \"name\": \"df\",\n  \"rows\": 50,\n  \"fields\": [\n    {\n      \"column\": \"Units Produced\",\n      \"properties\": {\n        \"dtype\": \"number\",\n        \"std\": 6,\n        \"min\": 80,\n        \"max\": 100,\n        \"num_unique_values\": 21,\n        \"samples\": [\n          98,\n          85,\n          81\n        ],\n        \"semantic_type\": \"\",\n        \"description\": \"\"\n      }\n    },\n    {\n      \"column\": \"Defective Units\",\n      \"properties\": {\n        \"dtype\": \"number\",\n        \"std\": 3,\n        \"min\": 0,\n        \"max\": 10,\n        \"num_unique_values\": 11,\n        \"samples\": [\n          1,\n          7,\n          5\n        ],\n        \"semantic_type\": \"\",\n        \"description\": \"\"\n      }\n    }\n  ]\n}"
            }
          },
          "metadata": {},
          "execution_count": 83
        }
      ]
    }
  ]
}