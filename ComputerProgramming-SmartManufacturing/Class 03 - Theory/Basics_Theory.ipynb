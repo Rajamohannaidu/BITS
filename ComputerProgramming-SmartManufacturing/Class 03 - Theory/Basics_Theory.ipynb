{
  "nbformat": 4,
  "nbformat_minor": 0,
  "metadata": {
    "colab": {
      "provenance": []
    },
    "kernelspec": {
      "name": "python3",
      "display_name": "Python 3"
    },
    "language_info": {
      "name": "python"
    }
  },
  "cells": [
    {
      "cell_type": "code",
      "execution_count": null,
      "metadata": {
        "id": "2aOTWaiLeoHm"
      },
      "outputs": [],
      "source": [
        "# * What is Programming ?  --> Tool to instruct machines to perform task.\n",
        "# Bridge b/w human logic and machine execution.\n",
        "\n",
        "# Natural Lnaguage --- Humans\n",
        "# Programming language -- Machines\n",
        "\n",
        "# ** Many Languages\n",
        "\n",
        "# Python -- Data Processing, Automation, ML, Analytucs, Dashboarding, IoT\n",
        "\n",
        "# C/C++ -- Hardware control, Embedded systems\n",
        "\n",
        "# Java -- Enterprise systems, ERP integerations\n",
        "\n",
        "# SQL -- Data retrievals, storage of data\n",
        "\n",
        "# ** Type of PL\n",
        "\n",
        "#   --> High- Level --> Python, Java, C#  (Human Friendly)\n",
        "#   --> Low-Level --> Closer to machine code (Assembly, C)\n",
        "#   --> Object - Oriented -- C++, Python, Java\n",
        "\n",
        "# ** How you will do programming ?\n",
        "\n",
        "# 1) Google Colab -- No installation, No hardware required. Only interent and gmail account needed\n",
        "\n",
        "# 2) On your computer -- python install, complex/computation intensive operations --> need good RAM,CPU, GPU. No internet required as such if you're\n",
        "#  not installing any library untill/unless your library needs internet/API call\n"
      ]
    },
    {
      "cell_type": "code",
      "source": [
        "# from typing import ValuesView\n",
        "\n",
        "# ** common concepts around Programming**\n",
        "\n",
        "# 1) Variable -- store data\n",
        "# what data you store -- tells , how you should store it..\n",
        "\n",
        "# 2) Keywords -- some pre-defined functions or tools or utilities.., if, for, in, type\n",
        "\n",
        "# 3) DataTypes\n",
        "# Primitive/Fundamental/Basic DataTypes\n",
        "#   * int -- Integer, behave and support Arithmetic operations\n",
        "#   * float -- Integer with floating values\n",
        "#   * str -- String, just like some combination of characters (whatever you see on keyboard)\n",
        "\n",
        "# **Complex/Advanced DataTypes**\n",
        "\n",
        "# Example - Instead of one temperature value, you want to store multiple temp. values\n",
        "\n",
        "# * list -- store multiple Values\n",
        "#   How to access/use list --\n",
        "#   1) len -- length of list, how many values are present in it\n",
        "#   2) if you want to access say 1st value ,, l[0]  -> in programming , everything starts from 0. 1 in real world is 0 in programming.\n",
        "#   3) Slicing -- access multiple values from list in single go\n",
        "#   4) scroll through list in automated manner -- USAGE of LOOP\n",
        "\n",
        "# * Dictionary -- key/value mappping pair ..\n"
      ],
      "metadata": {
        "id": "LFjf4TgAj-oQ"
      },
      "execution_count": null,
      "outputs": []
    },
    {
      "cell_type": "code",
      "source": [
        "for machine, what all info you Store\n",
        "\n",
        "* machine ID\n",
        "* machine parameters -- temp, pressure, vaccum\n",
        "* results -- actual values"
      ],
      "metadata": {
        "id": "-_ofYA34r5qW"
      },
      "execution_count": null,
      "outputs": []
    },
    {
      "cell_type": "code",
      "source": [
        "temp1 = [10.9,22.4,33.5,44.6]"
      ],
      "metadata": {
        "id": "UsTI0y5HvFvc"
      },
      "execution_count": 47,
      "outputs": []
    },
    {
      "cell_type": "code",
      "source": [
        "temp1.append(40.88)"
      ],
      "metadata": {
        "id": "z5bvRucAvHfS"
      },
      "execution_count": 48,
      "outputs": []
    },
    {
      "cell_type": "code",
      "source": [
        "temp1"
      ],
      "metadata": {
        "colab": {
          "base_uri": "https://localhost:8080/"
        },
        "id": "jYUEmsuavKLj",
        "outputId": "637bab8a-3190-4680-9785-d8bf9352bbca"
      },
      "execution_count": 49,
      "outputs": [
        {
          "output_type": "execute_result",
          "data": {
            "text/plain": [
              "[10.9, 22.4, 33.5, 44.6, 40.88]"
            ]
          },
          "metadata": {},
          "execution_count": 49
        }
      ]
    },
    {
      "cell_type": "code",
      "source": [
        "variable (int,float)  --> multiple values --> list  --> multiple lists --> dictionaries.."
      ],
      "metadata": {
        "id": "oDAGWb3mvXH4"
      },
      "execution_count": null,
      "outputs": []
    },
    {
      "cell_type": "code",
      "source": [
        "machine_data = {\n",
        "    \"m1\": {\n",
        "        \"temperature\":[],\n",
        "        \"pressure\":[]\n",
        "    },\n",
        "    \"m2\":{\n",
        "        \"temperature\":[],\n",
        "        \"pressure\":[]\n",
        "    },\n",
        "    \"m3\":{\n",
        "        \"temperature\":[],\n",
        "        \"pressure\":[]\n",
        "    },\n",
        "    \"m4\":{\n",
        "        \"temperature\":[],\n",
        "        \"pressure\":[]\n",
        "    },\n",
        "    \"m5\":{\n",
        "        \"temperature\":[],\n",
        "        \"pressure\":[]\n",
        "    }\n",
        "}"
      ],
      "metadata": {
        "id": "ppOtFiN1wMD7"
      },
      "execution_count": 79,
      "outputs": []
    },
    {
      "cell_type": "code",
      "source": [
        "import random\n",
        "machine_names = list(machine_data.keys())\n",
        "print(machine_names)\n",
        "machine_features = list(machine_data[\"m1\"].keys())\n",
        "print(machine_features)"
      ],
      "metadata": {
        "colab": {
          "base_uri": "https://localhost:8080/"
        },
        "id": "aGcLPS7kwyMi",
        "outputId": "44edaeb6-6fba-4de8-9afd-1271259b19bf"
      },
      "execution_count": 64,
      "outputs": [
        {
          "output_type": "stream",
          "name": "stdout",
          "text": [
            "['m1', 'm2', 'm3', 'm4', 'm5']\n",
            "['temperature', 'pressure']\n"
          ]
        }
      ]
    },
    {
      "cell_type": "code",
      "source": [
        "### Basic Simulation"
      ],
      "metadata": {
        "id": "CxUjJ5EUxNOz"
      },
      "execution_count": null,
      "outputs": []
    },
    {
      "cell_type": "code",
      "source": [
        "machine_data"
      ],
      "metadata": {
        "colab": {
          "base_uri": "https://localhost:8080/"
        },
        "id": "gv54e0VQydiH",
        "outputId": "0a475780-2b4b-40e7-a76f-31dc2a741726"
      },
      "execution_count": 73,
      "outputs": [
        {
          "output_type": "execute_result",
          "data": {
            "text/plain": [
              "{'m1': {'temperature': '23.75', 'pressure': 17.6},\n",
              " 'm2': {'temperature': 21.34, 'pressure': 18.8},\n",
              " 'm3': {'temperature': 11.5, 'pressure': []},\n",
              " 'm4': {'temperature': [], 'pressure': 17.3},\n",
              " 'm5': {'temperature': [], 'pressure': []}}"
            ]
          },
          "metadata": {},
          "execution_count": 73
        }
      ]
    },
    {
      "cell_type": "code",
      "source": [
        "machine_data[machine_name][feature_name]"
      ],
      "metadata": {
        "colab": {
          "base_uri": "https://localhost:8080/"
        },
        "id": "HoCdKdI1ynmB",
        "outputId": "3f2bc321-9874-4064-e529-41889bfe7131"
      },
      "execution_count": 75,
      "outputs": [
        {
          "output_type": "execute_result",
          "data": {
            "text/plain": [
              "21.34"
            ]
          },
          "metadata": {},
          "execution_count": 75
        }
      ]
    },
    {
      "cell_type": "code",
      "source": [
        "for i in range(20):\n",
        "  machine_name = random.choice(machine_names)\n",
        "  feature_name = random.choice(machine_features)\n",
        "  value = float(input(f\"Enter {feature_name} for Machine: {machine_name} \"))\n",
        "  machine_data[machine_name][feature_name].append(value)"
      ],
      "metadata": {
        "colab": {
          "base_uri": "https://localhost:8080/"
        },
        "id": "-FNvKja5xPgH",
        "outputId": "5974edcf-9328-4aac-aac7-f5d2b5aa35b0"
      },
      "execution_count": 80,
      "outputs": [
        {
          "name": "stdout",
          "output_type": "stream",
          "text": [
            "Enter temperature for Machine: m5 22.3\n",
            "Enter temperature for Machine: m3 22.4\n",
            "Enter temperature for Machine: m1 22.5\n",
            "Enter pressure for Machine: m4 22.6\n",
            "Enter temperature for Machine: m2 22.7\n",
            "Enter temperature for Machine: m3 22.8\n",
            "Enter pressure for Machine: m2 998.44\n",
            "Enter temperature for Machine: m2 99\n",
            "Enter pressure for Machine: m5 887\n",
            "Enter pressure for Machine: m2 87\n",
            "Enter pressure for Machine: m2 88.3\n",
            "Enter temperature for Machine: m5 33.4\n",
            "Enter temperature for Machine: m5 55.7\n",
            "Enter pressure for Machine: m2 44.1\n",
            "Enter pressure for Machine: m4 99.6\n",
            "Enter temperature for Machine: m4 110.2\n",
            "Enter temperature for Machine: m3 22.2\n",
            "Enter temperature for Machine: m2 33.4\n",
            "Enter pressure for Machine: m2 55.6\n",
            "Enter pressure for Machine: m3 77.8\n"
          ]
        }
      ]
    },
    {
      "cell_type": "code",
      "source": [
        "from pprint import pprint\n",
        "pprint(machine_data)"
      ],
      "metadata": {
        "colab": {
          "base_uri": "https://localhost:8080/"
        },
        "id": "VLpRR4rIzIYK",
        "outputId": "f838894e-a0ed-4fc4-bceb-69bebc5287a2"
      },
      "execution_count": 82,
      "outputs": [
        {
          "output_type": "stream",
          "name": "stdout",
          "text": [
            "{'m1': {'pressure': [], 'temperature': [22.5]},\n",
            " 'm2': {'pressure': [998.44, 87.0, 88.3, 44.1, 55.6],\n",
            "        'temperature': [22.7, 99.0, 33.4]},\n",
            " 'm3': {'pressure': [77.8], 'temperature': [22.4, 22.8, 22.2]},\n",
            " 'm4': {'pressure': [22.6, 99.6], 'temperature': [110.2]},\n",
            " 'm5': {'pressure': [887.0], 'temperature': [22.3, 33.4, 55.7]}}\n"
          ]
        }
      ]
    },
    {
      "cell_type": "code",
      "source": [
        "machine_data[\"m2\"][\"pressure\"]"
      ],
      "metadata": {
        "colab": {
          "base_uri": "https://localhost:8080/"
        },
        "id": "bet067UWzX4p",
        "outputId": "e447ecfd-570c-4b4e-861a-07741451e4d3"
      },
      "execution_count": 84,
      "outputs": [
        {
          "output_type": "execute_result",
          "data": {
            "text/plain": [
              "[998.44, 87.0, 88.3, 44.1, 55.6]"
            ]
          },
          "metadata": {},
          "execution_count": 84
        }
      ]
    },
    {
      "cell_type": "code",
      "source": [
        "machine_data = {\n",
        "    \"m1\": [10.9,22.4,33.5,44.6],\n",
        "    \"m2\":[111,22,3,4],\n",
        "    \"m3\":[32563,2783,373,277],\n",
        "    \"m4\":[11,233,45,666],\n",
        "    \"m5\":[6,99,8]\n",
        "}"
      ],
      "metadata": {
        "id": "Ps_uONZwujyp"
      },
      "execution_count": 50,
      "outputs": []
    },
    {
      "cell_type": "code",
      "source": [
        "machine_data[\"m6\"]"
      ],
      "metadata": {
        "colab": {
          "base_uri": "https://localhost:8080/",
          "height": 141
        },
        "id": "gCoBN0Mcu18G",
        "outputId": "c9492ba7-d412-429f-a095-0d1459651e1a"
      },
      "execution_count": 56,
      "outputs": [
        {
          "output_type": "error",
          "ename": "KeyError",
          "evalue": "'m6'",
          "traceback": [
            "\u001b[0;31m---------------------------------------------------------------------------\u001b[0m",
            "\u001b[0;31mKeyError\u001b[0m                                  Traceback (most recent call last)",
            "\u001b[0;32m<ipython-input-56-0d0266dd07fa>\u001b[0m in \u001b[0;36m<cell line: 0>\u001b[0;34m()\u001b[0m\n\u001b[0;32m----> 1\u001b[0;31m \u001b[0mmachine_data\u001b[0m\u001b[0;34m[\u001b[0m\u001b[0;34m\"m6\"\u001b[0m\u001b[0;34m]\u001b[0m\u001b[0;34m\u001b[0m\u001b[0;34m\u001b[0m\u001b[0m\n\u001b[0m",
            "\u001b[0;31mKeyError\u001b[0m: 'm6'"
          ]
        }
      ]
    },
    {
      "cell_type": "code",
      "source": [
        "2 Machines\n",
        "\n",
        "M1 -- temp_value_m1 = [10.9,22.4,33.5,44.6]\n",
        "\n",
        "M2 -- temp_values_m2 = [10.7,333.8,77.4,3.2]\n",
        "\n",
        "temp_values_m3\n",
        "\n",
        "temp_values_m4\n",
        "\n",
        "temp_values_m1000"
      ],
      "metadata": {
        "id": "M500D2RKsjKC"
      },
      "execution_count": null,
      "outputs": []
    },
    {
      "cell_type": "code",
      "source": [
        "# devices\n",
        "employees = [\"A\",\"B\",\"C\",\"D\",\"E\",\"F\",\"G\"]"
      ],
      "metadata": {
        "id": "H0EpdyuoqSGQ"
      },
      "execution_count": null,
      "outputs": []
    },
    {
      "cell_type": "code",
      "source": [
        "pressure, flow, vibration, velocity, conductivity, etc.."
      ],
      "metadata": {
        "id": "_lX3GA8TqB8e"
      },
      "execution_count": null,
      "outputs": []
    },
    {
      "cell_type": "code",
      "source": [
        "temp1 = 36.5\n",
        "temp2 = 50.9\n",
        "temp3 = 88\n",
        "temp4 = 7\n",
        "temp5 = 99.9\n",
        "\n",
        "print(f'''Temp1 type -  {type(temp1)}\n",
        "Temp2 type - {type(temp2)}\n",
        "Temp3 type - {type(temp3)}\n",
        "Temp4 type - {type(temp4)}\n",
        "Temp5 type - {type(temp5)}''')\n",
        "\n",
        "temp_values = [temp1,temp2,temp3, temp4, temp5]\n",
        "print(f\"Type of temp_values -- {type(temp_values)}\")"
      ],
      "metadata": {
        "colab": {
          "base_uri": "https://localhost:8080/"
        },
        "id": "YJ0qKBLgnukZ",
        "outputId": "329eddad-9dcd-41e4-b194-b9b87c574a3f"
      },
      "execution_count": 38,
      "outputs": [
        {
          "output_type": "stream",
          "name": "stdout",
          "text": [
            "Temp1 type -  <class 'float'>\n",
            "Temp2 type - <class 'float'>\n",
            "Temp3 type - <class 'int'>\n",
            "Temp4 type - <class 'int'>\n",
            "Temp5 type - <class 'float'>\n",
            "Type of temp_values -- <class 'list'>\n"
          ]
        }
      ]
    },
    {
      "cell_type": "code",
      "source": [
        "for temp in temp_values:\n",
        "  if temp> 30:\n",
        "    print(temp)"
      ],
      "metadata": {
        "colab": {
          "base_uri": "https://localhost:8080/"
        },
        "id": "QO8Mhi90rQdp",
        "outputId": "27511119-cdb7-44ab-cee4-dbc4e92f481e"
      },
      "execution_count": 42,
      "outputs": [
        {
          "output_type": "stream",
          "name": "stdout",
          "text": [
            "36.5\n",
            "50.9\n",
            "88\n",
            "99.9\n"
          ]
        }
      ]
    },
    {
      "cell_type": "code",
      "source": [
        "temp_values[1:3]"
      ],
      "metadata": {
        "colab": {
          "base_uri": "https://localhost:8080/"
        },
        "id": "P62uLrJ-qo_o",
        "outputId": "92ac2f65-f6d2-4021-928f-002387b4611c"
      },
      "execution_count": 40,
      "outputs": [
        {
          "output_type": "execute_result",
          "data": {
            "text/plain": [
              "[50.9, 88]"
            ]
          },
          "metadata": {},
          "execution_count": 40
        }
      ]
    },
    {
      "cell_type": "code",
      "source": [
        "# [36.5, 50.9,88,7,99.9] ---> Actual Values\n",
        "\n",
        "# [0,1,2,3,4]  --> Index"
      ],
      "metadata": {
        "id": "8eegSR7eoq7M"
      },
      "execution_count": null,
      "outputs": []
    },
    {
      "cell_type": "code",
      "source": [
        "temp_values[2]"
      ],
      "metadata": {
        "colab": {
          "base_uri": "https://localhost:8080/"
        },
        "id": "FznFooV6pCYG",
        "outputId": "333aa609-69fd-45d8-a7b8-f364b8a3b2f9"
      },
      "execution_count": 35,
      "outputs": [
        {
          "output_type": "execute_result",
          "data": {
            "text/plain": [
              "88"
            ]
          },
          "metadata": {},
          "execution_count": 35
        }
      ]
    },
    {
      "cell_type": "code",
      "source": [
        "type(temp_values)"
      ],
      "metadata": {
        "colab": {
          "base_uri": "https://localhost:8080/"
        },
        "id": "c7fZzpu_pfeD",
        "outputId": "49b6a419-9a7e-4040-d1a6-4cde6ea78063"
      },
      "execution_count": 37,
      "outputs": [
        {
          "output_type": "execute_result",
          "data": {
            "text/plain": [
              "list"
            ]
          },
          "metadata": {},
          "execution_count": 37
        }
      ]
    },
    {
      "cell_type": "code",
      "source": [
        "type(temp_values[2])"
      ],
      "metadata": {
        "colab": {
          "base_uri": "https://localhost:8080/"
        },
        "id": "Ofiq-re9pF7c",
        "outputId": "5dc08c78-e139-4a4b-cc27-da906b231f04"
      },
      "execution_count": 36,
      "outputs": [
        {
          "output_type": "execute_result",
          "data": {
            "text/plain": [
              "int"
            ]
          },
          "metadata": {},
          "execution_count": 36
        }
      ]
    },
    {
      "cell_type": "code",
      "source": [
        "temp_values = [36.5, 50.9,88,7,99.9]\n",
        "type(temp_values)"
      ],
      "metadata": {
        "colab": {
          "base_uri": "https://localhost:8080/"
        },
        "id": "KVAht4SAmt23",
        "outputId": "45162859-f74e-42eb-f5dc-dca506c35b17"
      },
      "execution_count": 17,
      "outputs": [
        {
          "output_type": "execute_result",
          "data": {
            "text/plain": [
              "list"
            ]
          },
          "metadata": {},
          "execution_count": 17
        }
      ]
    },
    {
      "cell_type": "code",
      "source": [
        "temp_values[0],temp_values[1],temp_values[2]"
      ],
      "metadata": {
        "colab": {
          "base_uri": "https://localhost:8080/"
        },
        "id": "DWz1RsCDng8F",
        "outputId": "ab0584b3-3e53-4dd6-d12b-b956b7f9f6e8"
      },
      "execution_count": 22,
      "outputs": [
        {
          "output_type": "execute_result",
          "data": {
            "text/plain": [
              "(36.5, 50.9, 88)"
            ]
          },
          "metadata": {},
          "execution_count": 22
        }
      ]
    },
    {
      "cell_type": "code",
      "source": [
        "len(temp_values)"
      ],
      "metadata": {
        "colab": {
          "base_uri": "https://localhost:8080/"
        },
        "id": "yBuDpaAXnJYL",
        "outputId": "eb897710-34cb-43e9-a19b-3c1c5dbf1bd4"
      },
      "execution_count": 18,
      "outputs": [
        {
          "output_type": "execute_result",
          "data": {
            "text/plain": [
              "5"
            ]
          },
          "metadata": {},
          "execution_count": 18
        }
      ]
    },
    {
      "cell_type": "code",
      "source": [
        "temperature = 36.5"
      ],
      "metadata": {
        "id": "eIGyjARal5ur"
      },
      "execution_count": 13,
      "outputs": []
    },
    {
      "cell_type": "code",
      "source": [
        "type(temperature)"
      ],
      "metadata": {
        "colab": {
          "base_uri": "https://localhost:8080/"
        },
        "id": "j2gP6sN9l_G4",
        "outputId": "a15ffa53-ed31-4f67-d8cc-203b293e2828"
      },
      "execution_count": 14,
      "outputs": [
        {
          "output_type": "execute_result",
          "data": {
            "text/plain": [
              "float"
            ]
          },
          "metadata": {},
          "execution_count": 14
        }
      ]
    },
    {
      "cell_type": "code",
      "source": [
        "a=10.0\n",
        "type(a)"
      ],
      "metadata": {
        "colab": {
          "base_uri": "https://localhost:8080/"
        },
        "id": "1-ezYYnjmGNY",
        "outputId": "40ac3284-5440-4db8-e1b6-214075369ad3"
      },
      "execution_count": 15,
      "outputs": [
        {
          "output_type": "execute_result",
          "data": {
            "text/plain": [
              "float"
            ]
          },
          "metadata": {},
          "execution_count": 15
        }
      ]
    },
    {
      "cell_type": "code",
      "source": [
        "a+30"
      ],
      "metadata": {
        "colab": {
          "base_uri": "https://localhost:8080/"
        },
        "id": "Wv8LaIpYmK3K",
        "outputId": "5bb4fd1d-7263-4d9d-e5c8-acd866ed3065"
      },
      "execution_count": 16,
      "outputs": [
        {
          "output_type": "execute_result",
          "data": {
            "text/plain": [
              "40.0"
            ]
          },
          "metadata": {},
          "execution_count": 16
        }
      ]
    },
    {
      "cell_type": "code",
      "source": [
        "a = 10\n",
        "print(type(a))"
      ],
      "metadata": {
        "colab": {
          "base_uri": "https://localhost:8080/"
        },
        "id": "YSEzQRnLkBp1",
        "outputId": "7be2c7b6-a57b-4be6-f562-483a65f5a6eb"
      },
      "execution_count": 7,
      "outputs": [
        {
          "output_type": "stream",
          "name": "stdout",
          "text": [
            "<class 'int'>\n"
          ]
        }
      ]
    },
    {
      "cell_type": "code",
      "source": [
        "a+30"
      ],
      "metadata": {
        "colab": {
          "base_uri": "https://localhost:8080/"
        },
        "id": "fl5990fXlE6l",
        "outputId": "6d287abd-9ca9-4d8f-870f-62e7d90e4805"
      },
      "execution_count": 8,
      "outputs": [
        {
          "output_type": "execute_result",
          "data": {
            "text/plain": [
              "40"
            ]
          },
          "metadata": {},
          "execution_count": 8
        }
      ]
    },
    {
      "cell_type": "code",
      "source": [
        "a = \"10\"\n",
        "print(type(a))"
      ],
      "metadata": {
        "colab": {
          "base_uri": "https://localhost:8080/"
        },
        "id": "fOFRRhjLke0I",
        "outputId": "52e02526-bf06-4f03-cfbf-76a6de63312a"
      },
      "execution_count": 9,
      "outputs": [
        {
          "output_type": "stream",
          "name": "stdout",
          "text": [
            "<class 'str'>\n"
          ]
        }
      ]
    },
    {
      "cell_type": "code",
      "source": [
        "a = \"name\""
      ],
      "metadata": {
        "id": "JhAnmF35lkkD"
      },
      "execution_count": 11,
      "outputs": []
    },
    {
      "cell_type": "code",
      "source": [
        "a+30"
      ],
      "metadata": {
        "colab": {
          "base_uri": "https://localhost:8080/",
          "height": 141
        },
        "id": "bo0oB1Wnle6C",
        "outputId": "33efd63b-164a-42bf-a774-966b8d49ad27"
      },
      "execution_count": 12,
      "outputs": [
        {
          "output_type": "error",
          "ename": "TypeError",
          "evalue": "can only concatenate str (not \"int\") to str",
          "traceback": [
            "\u001b[0;31m---------------------------------------------------------------------------\u001b[0m",
            "\u001b[0;31mTypeError\u001b[0m                                 Traceback (most recent call last)",
            "\u001b[0;32m<ipython-input-12-59e4df352fac>\u001b[0m in \u001b[0;36m<cell line: 0>\u001b[0;34m()\u001b[0m\n\u001b[0;32m----> 1\u001b[0;31m \u001b[0ma\u001b[0m\u001b[0;34m+\u001b[0m\u001b[0;36m30\u001b[0m\u001b[0;34m\u001b[0m\u001b[0;34m\u001b[0m\u001b[0m\n\u001b[0m",
            "\u001b[0;31mTypeError\u001b[0m: can only concatenate str (not \"int\") to str"
          ]
        }
      ]
    },
    {
      "cell_type": "code",
      "source": [
        "name = \"aakash\""
      ],
      "metadata": {
        "id": "9S7QQ5ppkEtm"
      },
      "execution_count": 2,
      "outputs": []
    },
    {
      "cell_type": "code",
      "source": [
        "print(f\"My name is {name}\")"
      ],
      "metadata": {
        "colab": {
          "base_uri": "https://localhost:8080/"
        },
        "id": "BcEKNUrKkIQF",
        "outputId": "fe8f6135-f40a-4e40-c5fe-bd7a72b7d977"
      },
      "execution_count": 3,
      "outputs": [
        {
          "output_type": "stream",
          "name": "stdout",
          "text": [
            "My name is aakash\n"
          ]
        }
      ]
    }
  ]
}